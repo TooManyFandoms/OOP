{
  "cells": [
    {
      "cell_type": "markdown",
      "metadata": {},
      "source": [
        "Получение датесета"
      ]
    },
    {
      "cell_type": "markdown",
      "metadata": {},
      "source": [
        "Шутки взяты из датасета https://github.com/Koziev/NLP_Datasets/blob/master/Conversations/Data/extract_dialogues_from_anekdots.tar.xz"
      ]
    },
    {
      "cell_type": "markdown",
      "metadata": {},
      "source": [
        "Просмотр статистики и объема датасета"
      ]
    },
    {
      "cell_type": "markdown",
      "metadata": {},
      "source": [
        "Датасет имеет примерно 80к шуток, для обучения выбраны первые 5000. Шутки содержат до 300 символов текста"
      ]
    },
    {
      "cell_type": "code",
      "execution_count": 1,
      "metadata": {
        "colab": {
          "base_uri": "https://localhost:8080/",
          "height": 661,
          "referenced_widgets": [
            "a476a01a39d947e4a4aed3097043a0bc",
            "a0cd7603b04048c69ea2ce701a4c46d7",
            "251175411a314f419d571fd5e6244c97",
            "d2cc0fc4d07a43a2971f70892dcda992",
            "e8adf66c47f846c89b58123216b51386",
            "061bf0b217064c8a8891610aaf241b26",
            "b071b2693b444ba6a6b467d50a83886e",
            "0d9421e44f7642fa878cd4de363ba1f8",
            "1253d4f69d104ffbafc1d060507e4d60",
            "481daac4c5064b508bc67a744f6e48bf",
            "acf938e34a5b4a67a5496b3e1afc7a6f",
            "f718225071f542088af1eb40bfd4c692",
            "bfdc7eb94a634d0194318cacb0f25524",
            "262d72c81c6c4c34999bae1e894eb1d1",
            "a42dae9c030a4635b6447053ab4a6bb3",
            "1248401f06cd453d93d8fe282c022a1b",
            "1580c3fe26b945838b57a8cd95f29517",
            "c9ad9a91d0b24d7086a4cbf2f7058e7c",
            "e94c98bead1d4ee391fb82519828dd5c",
            "1843a96b9eb44670b4b4139680764dcc",
            "3a9205ea15034361a9dd7080fb04f783",
            "ef09f208328a4763a06657fffbfa1a12",
            "72480c4a06964d1882f4b100d6fb65f4",
            "8c26f671edcc4875a798ccd38c69febe",
            "9dace69c527143cb8e8d5e004fd08e8d",
            "27bd122b04e14864a623e9350364a010",
            "f0212086b7a14954b62f535586daad4d",
            "490ae6b7fc9e482296066f60c5f943d5",
            "fe0c9ec94b114bfc855de2f78ace6274",
            "5bd23d7f2be04795810c9cb46e026340",
            "071b11bfa75e43bca6464a14f92ae467",
            "a239ed0fae664ab981ef6082a5af37cc",
            "6b86505debeb46778ea566c61bf55f38",
            "0b992b9a96814afb840805e9e39243f7",
            "5edce64309e84f81bd67667349b5790d",
            "c8dfa633851d4c10a5d77dcdcfa18de2",
            "fd11dbe3335742519b03c2abe609a211",
            "96d4ecfdf59049f7bf8483d376ab81e4",
            "59a941d8fa3a4fa1b16a3f93857bf8c5",
            "62a08dc3eb114499b7199b3f56ba0657",
            "68bda931ff9346b5a71dae5ea5d05eb1",
            "73c80fbab970477bbc4ef462a77188ae",
            "8f8f47f3eabc43ab9d3d85eb5526a5f5",
            "d1b50d3f8a6447f9bfbd6b637ede85dd"
          ]
        },
        "id": "D5Eezvzm_hrI",
        "outputId": "ba1a39ba-db96-4b54-f5a1-f1d6a6b1b769"
      },
      "outputs": [
        {
          "name": "stderr",
          "output_type": "stream",
          "text": [
            "c:\\Users\\USER\\AppData\\Local\\Programs\\Python\\Python310\\lib\\site-packages\\tqdm\\auto.py:22: TqdmWarning: IProgress not found. Please update jupyter and ipywidgets. See https://ipywidgets.readthedocs.io/en/stable/user_install.html\n",
            "  from .autonotebook import tqdm as notebook_tqdm\n"
          ]
        }
      ],
      "source": [
        "\n",
        "from transformers import GPT2LMHeadModel, GPT2Tokenizer\n",
        "import torch\n",
        "DEVICE = torch.device('cuda' if torch.cuda.is_available() else 'cpu')\n"
      ]
    },
    {
      "cell_type": "code",
      "execution_count": null,
      "metadata": {},
      "outputs": [],
      "source": []
    },
    {
      "cell_type": "code",
      "execution_count": 3,
      "metadata": {
        "colab": {
          "base_uri": "https://localhost:8080/",
          "height": 145,
          "referenced_widgets": [
            "6304af0752bf40f9a7cb45898e3708d0",
            "251df80228934a17b7804012c61c67d4",
            "65118ebe223a4a21bf9f18b427bd2a80",
            "5c83d43f648544699ceb43e5f6a4bbbc",
            "62f8ec9bf30c47c1944421ffedc9df9e",
            "8b4cc2451c6a4d17bfc6f3d0f3c326f8",
            "851b34f41573488185dabf49ad67ac2a",
            "f3e2ca594f8345d7b7960c5cc7a0343b",
            "87165d74ed064bd0a1e2d402821a94c1",
            "5e7ced537a1b462483f9454e8739b2bd",
            "10a09d4d27914e709de19ebaa986a934",
            "331ce1ca31004cffb244c867b196850e",
            "9d47b7f26ebc42dfbdc2c07c7a3e64fe",
            "476e0f05faeb4adda268a27edfbb1477",
            "104e53154a2048b2ad254370fc16e506",
            "78798f7ca8a545a5a812688aad0a6d6e",
            "d32ccf40116049a3838922f79ac980dc",
            "c74643551c5b446cb9964b68651c2acd",
            "b9d68baebb0c4e3cb142b34bada1c026",
            "75ac2723f2304be4803a1fafb6a3e7f3",
            "5b2fdd6a67c045ba98a0dc10a7614e04",
            "98889590496f4b1c8f98fb606d2cd91c",
            "ff4ae85a848a49809f2c11235bdff062",
            "47c076adb58541acacd7c3e619f279f0",
            "0364c68a3dc8490d8b2ea78a095bbcf0",
            "619033369fd3470393661715bd6c48f9",
            "5078a6d3c49b4e55a29993c466006858",
            "78c8525af1164c80a89768a92ac6b684",
            "2d9fcdd38796435d8d6ae105024970ae",
            "428d4c95d110440596571547473a93e6",
            "d6c828d68cae40bea12f45be4a1f01f1",
            "715815e0f897468886b1ff9ccdf44d6e",
            "9f5ceb78edd54cdebd1c973e09bd41b2",
            "5610e5edefa849498183605776bb8086",
            "adae1c2cf4fb4d3baa88c141c75c5f0f",
            "c9546b0039db4ee1a199599e59469d3f",
            "c66d670e683d4b27b1ee1a76dbed80b6",
            "2f7fef9888a2412a8322f652b13c1a6b",
            "d0087490c7ba4dfcbd2c7fb3312552aa",
            "bf027583d2504e45a703d32d460d3723",
            "7c3372b2a44a4dbdac454837b7545058",
            "859432f2b8214a25a96e7f8ccf9225eb",
            "65295c02d1e148368a0581ba447f238a",
            "a5d08177b34146d9af06a8d302cef334"
          ]
        },
        "id": "Ha9HPro0eQWm",
        "outputId": "70f284ef-bc66-4afa-a286-c09d107a00bf"
      },
      "outputs": [
        {
          "name": "stderr",
          "output_type": "stream",
          "text": [
            "Downloading: 100%|██████████| 1.61M/1.61M [00:01<00:00, 1.41MB/s]\n",
            "c:\\Users\\USER\\AppData\\Local\\Programs\\Python\\Python310\\lib\\site-packages\\huggingface_hub\\file_download.py:123: UserWarning: `huggingface_hub` cache-system uses symlinks by default to efficiently store duplicated files but your machine does not support them in C:\\Users\\USER\\.cache\\huggingface\\hub. Caching files will still work but in a degraded version that might require more space on your disk. This warning can be disabled by setting the `HF_HUB_DISABLE_SYMLINKS_WARNING` environment variable. For more details, see https://huggingface.co/docs/huggingface_hub/how-to-cache#limitations.\n",
            "To support symlinks on Windows, you either need to activate Developer Mode or to run Python as an administrator. In order to see activate developer mode, see this article: https://docs.microsoft.com/en-us/windows/apps/get-started/enable-your-device-for-development\n",
            "  warnings.warn(message)\n",
            "Downloading: 100%|██████████| 1.27M/1.27M [00:01<00:00, 1.08MB/s]\n",
            "Downloading: 100%|██████████| 674/674 [00:00<00:00, 674kB/s]\n",
            "Downloading: 100%|██████████| 1.73G/1.73G [11:39<00:00, 2.47MB/s] \n"
          ]
        }
      ],
      "source": [
        "# использовать из низа модель\n",
        "model_name_or_path = \"sberbank-ai/rugpt3medium_based_on_gpt2\"\n",
        "tokenizer = GPT2Tokenizer.from_pretrained(model_name_or_path)\n",
        "model = GPT2LMHeadModel.from_pretrained(model_name_or_path).to(DEVICE)"
      ]
    },
    {
      "cell_type": "code",
      "execution_count": 3,
      "metadata": {},
      "outputs": [],
      "source": [
        "#Предобработка данных"
      ]
    },
    {
      "cell_type": "code",
      "execution_count": 3,
      "metadata": {},
      "outputs": [],
      "source": [
        "from datasets import load_dataset, Dataset"
      ]
    },
    {
      "cell_type": "code",
      "execution_count": 4,
      "metadata": {},
      "outputs": [
        {
          "name": "stderr",
          "output_type": "stream",
          "text": [
            "Using custom data configuration default-e7cb14cc9e70c1c8\n",
            "Found cached dataset text (C:/Users/USER/.cache/huggingface/datasets/text/default-e7cb14cc9e70c1c8/0.0.0/21a506d1b2b34316b1e82d0bd79066905d846e5d7e619823c0dd338d6f1fa6ad)\n",
            "100%|██████████| 1/1 [00:00<00:00, 142.82it/s]\n"
          ]
        }
      ],
      "source": [
        "dataset = load_dataset(\"text\", data_files={\"train\": \"./train_dataset.txt\"}, sample_by=\"document\")"
      ]
    },
    {
      "cell_type": "code",
      "execution_count": 5,
      "metadata": {},
      "outputs": [],
      "source": [
        "joke_datasets = []"
      ]
    },
    {
      "cell_type": "code",
      "execution_count": 6,
      "metadata": {},
      "outputs": [],
      "source": [
        "k = 0\n",
        "for index, item in enumerate(dataset['train'][0]['text'].split('\\n\\n\\n\\n')):\n",
        "    k = k +1\n",
        "    if (k > 60): #ВОт тут длинна датасета !!!!!\n",
        "        break\n",
        "    joke_datasets.append({\"text\":item})"
      ]
    },
    {
      "cell_type": "code",
      "execution_count": 7,
      "metadata": {},
      "outputs": [],
      "source": [
        "dataset = Dataset.from_list(joke_datasets, split=\"train+test\")"
      ]
    },
    {
      "cell_type": "code",
      "execution_count": 8,
      "metadata": {},
      "outputs": [
        {
          "data": {
            "text/plain": [
              "{'text': '[SJ]- Как водичка ?\\n- А я здесь как женшина сижу, а не как термометр.[EJ]'}"
            ]
          },
          "execution_count": 8,
          "metadata": {},
          "output_type": "execute_result"
        }
      ],
      "source": [
        "dataset[0]"
      ]
    },
    {
      "cell_type": "code",
      "execution_count": 9,
      "metadata": {},
      "outputs": [
        {
          "name": "stderr",
          "output_type": "stream",
          "text": [
            "100%|██████████| 60/60 [00:00<00:00, 1094.80ex/s]\n"
          ]
        }
      ],
      "source": [
        "dataset = dataset.map(lambda examples: tokenizer(examples[\"text\"]))"
      ]
    },
    {
      "cell_type": "code",
      "execution_count": 10,
      "metadata": {},
      "outputs": [],
      "source": [
        "from transformers import DataCollatorForLanguageModeling\n",
        "\n",
        "data_collator = DataCollatorForLanguageModeling(tokenizer=tokenizer, mlm=False)"
      ]
    },
    {
      "cell_type": "markdown",
      "metadata": {},
      "source": [
        "Выдвижение гипотез\n"
      ]
    },
    {
      "cell_type": "markdown",
      "metadata": {},
      "source": [
        "Модель будет генерировать шутки похожие на те, что в датасете и дополнять их"
      ]
    },
    {
      "cell_type": "markdown",
      "metadata": {},
      "source": [
        "Выбор модели"
      ]
    },
    {
      "cell_type": "markdown",
      "metadata": {},
      "source": [
        "Для генерации текста выбрана gpt3: rugpt3small_based_on_gpt2"
      ]
    },
    {
      "cell_type": "markdown",
      "metadata": {},
      "source": [
        "Обучение модели"
      ]
    },
    {
      "cell_type": "code",
      "execution_count": 11,
      "metadata": {},
      "outputs": [],
      "source": [
        "from transformers import Trainer, TrainingArguments\n",
        "\n",
        "training_args = TrainingArguments(\n",
        "    output_dir=\"./finetuner\",\n",
        "    learning_rate= 2e-3,\n",
        "    per_device_train_batch_size = 1, # если позволяет память - можно сделать больше\n",
        "    per_device_eval_batch_size=1,\n",
        "    num_train_epochs=200, # сколько будет пройден датасет полностью\n",
        "    weight_decay=0.01,\n",
        "    save_total_limit = 1\n",
        ")\n"
      ]
    },
    {
      "cell_type": "code",
      "execution_count": 12,
      "metadata": {},
      "outputs": [],
      "source": [
        "trainer = Trainer(\n",
        "    model=model,\n",
        "    args=training_args,\n",
        "    train_dataset=dataset,\n",
        "    tokenizer=tokenizer,\n",
        "    data_collator=data_collator,\n",
        "        optimizers = (torch.optim.AdamW(model.parameters(),lr=2e-3),None) # Optimizer and lr scheduler\n",
        ")"
      ]
    },
    {
      "cell_type": "code",
      "execution_count": 13,
      "metadata": {},
      "outputs": [
        {
          "name": "stderr",
          "output_type": "stream",
          "text": [
            "Assigning [PAD] to the pad_token key of the tokenizer\n",
            "Adding [PAD] to the vocabulary\n"
          ]
        },
        {
          "data": {
            "text/plain": [
              "1"
            ]
          },
          "execution_count": 13,
          "metadata": {},
          "output_type": "execute_result"
        }
      ],
      "source": [
        "tokenizer.add_special_tokens({'pad_token': '[PAD]'})"
      ]
    },
    {
      "cell_type": "code",
      "execution_count": 14,
      "metadata": {},
      "outputs": [
        {
          "name": "stderr",
          "output_type": "stream",
          "text": [
            "The following columns in the training set don't have a corresponding argument in `GPT2LMHeadModel.forward` and have been ignored: text. If text are not expected by `GPT2LMHeadModel.forward`,  you can safely ignore this message.\n",
            "***** Running training *****\n",
            "  Num examples = 60\n",
            "  Num Epochs = 200\n",
            "  Instantaneous batch size per device = 1\n",
            "  Total train batch size (w. parallel, distributed & accumulation) = 1\n",
            "  Gradient Accumulation steps = 1\n",
            "  Total optimization steps = 12000\n",
            "  Number of trainable parameters = 355871744\n",
            "  4%|▍         | 500/12000 [11:12<4:16:37,  1.34s/it]Saving model checkpoint to ./finetuner\\checkpoint-500\n",
            "Configuration saved in ./finetuner\\checkpoint-500\\config.json\n"
          ]
        },
        {
          "name": "stdout",
          "output_type": "stream",
          "text": [
            "{'loss': 4.5733, 'learning_rate': 0.0019166666666666668, 'epoch': 8.33}\n"
          ]
        },
        {
          "name": "stderr",
          "output_type": "stream",
          "text": [
            "Model weights saved in ./finetuner\\checkpoint-500\\pytorch_model.bin\n",
            "tokenizer config file saved in ./finetuner\\checkpoint-500\\tokenizer_config.json\n",
            "Special tokens file saved in ./finetuner\\checkpoint-500\\special_tokens_map.json\n",
            "added tokens file saved in ./finetuner\\checkpoint-500\\added_tokens.json\n",
            "  8%|▊         | 1000/12000 [22:32<4:06:33,  1.34s/it]Saving model checkpoint to ./finetuner\\checkpoint-1000\n",
            "Configuration saved in ./finetuner\\checkpoint-1000\\config.json\n"
          ]
        },
        {
          "name": "stdout",
          "output_type": "stream",
          "text": [
            "{'loss': 3.4981, 'learning_rate': 0.0018333333333333333, 'epoch': 16.67}\n"
          ]
        },
        {
          "name": "stderr",
          "output_type": "stream",
          "text": [
            "Model weights saved in ./finetuner\\checkpoint-1000\\pytorch_model.bin\n",
            "tokenizer config file saved in ./finetuner\\checkpoint-1000\\tokenizer_config.json\n",
            "Special tokens file saved in ./finetuner\\checkpoint-1000\\special_tokens_map.json\n",
            "added tokens file saved in ./finetuner\\checkpoint-1000\\added_tokens.json\n",
            "Deleting older checkpoint [finetuner\\checkpoint-500] due to args.save_total_limit\n",
            " 12%|█▎        | 1500/12000 [33:53<3:57:32,  1.36s/it] Saving model checkpoint to ./finetuner\\checkpoint-1500\n",
            "Configuration saved in ./finetuner\\checkpoint-1500\\config.json\n"
          ]
        },
        {
          "name": "stdout",
          "output_type": "stream",
          "text": [
            "{'loss': 3.2005, 'learning_rate': 0.00175, 'epoch': 25.0}\n"
          ]
        },
        {
          "name": "stderr",
          "output_type": "stream",
          "text": [
            "Model weights saved in ./finetuner\\checkpoint-1500\\pytorch_model.bin\n",
            "tokenizer config file saved in ./finetuner\\checkpoint-1500\\tokenizer_config.json\n",
            "Special tokens file saved in ./finetuner\\checkpoint-1500\\special_tokens_map.json\n",
            "added tokens file saved in ./finetuner\\checkpoint-1500\\added_tokens.json\n",
            "Deleting older checkpoint [finetuner\\checkpoint-1000] due to args.save_total_limit\n",
            " 17%|█▋        | 2000/12000 [45:14<3:47:06,  1.36s/it] Saving model checkpoint to ./finetuner\\checkpoint-2000\n",
            "Configuration saved in ./finetuner\\checkpoint-2000\\config.json\n"
          ]
        },
        {
          "name": "stdout",
          "output_type": "stream",
          "text": [
            "{'loss': 2.9594, 'learning_rate': 0.0016666666666666668, 'epoch': 33.33}\n"
          ]
        },
        {
          "name": "stderr",
          "output_type": "stream",
          "text": [
            "Model weights saved in ./finetuner\\checkpoint-2000\\pytorch_model.bin\n",
            "tokenizer config file saved in ./finetuner\\checkpoint-2000\\tokenizer_config.json\n",
            "Special tokens file saved in ./finetuner\\checkpoint-2000\\special_tokens_map.json\n",
            "added tokens file saved in ./finetuner\\checkpoint-2000\\added_tokens.json\n",
            "Deleting older checkpoint [finetuner\\checkpoint-1500] due to args.save_total_limit\n",
            " 21%|██        | 2500/12000 [56:35<3:33:13,  1.35s/it] Saving model checkpoint to ./finetuner\\checkpoint-2500\n",
            "Configuration saved in ./finetuner\\checkpoint-2500\\config.json\n"
          ]
        },
        {
          "name": "stdout",
          "output_type": "stream",
          "text": [
            "{'loss': 2.735, 'learning_rate': 0.0015833333333333333, 'epoch': 41.67}\n"
          ]
        },
        {
          "name": "stderr",
          "output_type": "stream",
          "text": [
            "Model weights saved in ./finetuner\\checkpoint-2500\\pytorch_model.bin\n",
            "tokenizer config file saved in ./finetuner\\checkpoint-2500\\tokenizer_config.json\n",
            "Special tokens file saved in ./finetuner\\checkpoint-2500\\special_tokens_map.json\n",
            "added tokens file saved in ./finetuner\\checkpoint-2500\\added_tokens.json\n",
            "Deleting older checkpoint [finetuner\\checkpoint-2000] due to args.save_total_limit\n",
            " 25%|██▌       | 3000/12000 [1:07:55<3:20:10,  1.33s/it]Saving model checkpoint to ./finetuner\\checkpoint-3000\n",
            "Configuration saved in ./finetuner\\checkpoint-3000\\config.json\n"
          ]
        },
        {
          "name": "stdout",
          "output_type": "stream",
          "text": [
            "{'loss': 2.745, 'learning_rate': 0.0015, 'epoch': 50.0}\n"
          ]
        },
        {
          "name": "stderr",
          "output_type": "stream",
          "text": [
            "Model weights saved in ./finetuner\\checkpoint-3000\\pytorch_model.bin\n",
            "tokenizer config file saved in ./finetuner\\checkpoint-3000\\tokenizer_config.json\n",
            "Special tokens file saved in ./finetuner\\checkpoint-3000\\special_tokens_map.json\n",
            "added tokens file saved in ./finetuner\\checkpoint-3000\\added_tokens.json\n",
            "Deleting older checkpoint [finetuner\\checkpoint-2500] due to args.save_total_limit\n",
            " 29%|██▉       | 3500/12000 [1:19:16<3:09:49,  1.34s/it]Saving model checkpoint to ./finetuner\\checkpoint-3500\n",
            "Configuration saved in ./finetuner\\checkpoint-3500\\config.json\n"
          ]
        },
        {
          "name": "stdout",
          "output_type": "stream",
          "text": [
            "{'loss': 2.6711, 'learning_rate': 0.0014166666666666668, 'epoch': 58.33}\n"
          ]
        },
        {
          "name": "stderr",
          "output_type": "stream",
          "text": [
            "Model weights saved in ./finetuner\\checkpoint-3500\\pytorch_model.bin\n",
            "tokenizer config file saved in ./finetuner\\checkpoint-3500\\tokenizer_config.json\n",
            "Special tokens file saved in ./finetuner\\checkpoint-3500\\special_tokens_map.json\n",
            "added tokens file saved in ./finetuner\\checkpoint-3500\\added_tokens.json\n",
            "Deleting older checkpoint [finetuner\\checkpoint-3000] due to args.save_total_limit\n",
            " 33%|███▎      | 4000/12000 [1:30:37<3:00:05,  1.35s/it]Saving model checkpoint to ./finetuner\\checkpoint-4000\n",
            "Configuration saved in ./finetuner\\checkpoint-4000\\config.json\n"
          ]
        },
        {
          "name": "stdout",
          "output_type": "stream",
          "text": [
            "{'loss': 2.7853, 'learning_rate': 0.0013333333333333333, 'epoch': 66.67}\n"
          ]
        },
        {
          "name": "stderr",
          "output_type": "stream",
          "text": [
            "Model weights saved in ./finetuner\\checkpoint-4000\\pytorch_model.bin\n",
            "tokenizer config file saved in ./finetuner\\checkpoint-4000\\tokenizer_config.json\n",
            "Special tokens file saved in ./finetuner\\checkpoint-4000\\special_tokens_map.json\n",
            "added tokens file saved in ./finetuner\\checkpoint-4000\\added_tokens.json\n",
            "Deleting older checkpoint [finetuner\\checkpoint-3500] due to args.save_total_limit\n",
            " 38%|███▊      | 4500/12000 [1:41:57<2:49:10,  1.35s/it]Saving model checkpoint to ./finetuner\\checkpoint-4500\n",
            "Configuration saved in ./finetuner\\checkpoint-4500\\config.json\n"
          ]
        },
        {
          "name": "stdout",
          "output_type": "stream",
          "text": [
            "{'loss': 2.6954, 'learning_rate': 0.00125, 'epoch': 75.0}\n"
          ]
        },
        {
          "name": "stderr",
          "output_type": "stream",
          "text": [
            "Model weights saved in ./finetuner\\checkpoint-4500\\pytorch_model.bin\n",
            "tokenizer config file saved in ./finetuner\\checkpoint-4500\\tokenizer_config.json\n",
            "Special tokens file saved in ./finetuner\\checkpoint-4500\\special_tokens_map.json\n",
            "added tokens file saved in ./finetuner\\checkpoint-4500\\added_tokens.json\n",
            "Deleting older checkpoint [finetuner\\checkpoint-4000] due to args.save_total_limit\n",
            " 42%|████▏     | 5000/12000 [1:53:16<2:36:03,  1.34s/it]Saving model checkpoint to ./finetuner\\checkpoint-5000\n",
            "Configuration saved in ./finetuner\\checkpoint-5000\\config.json\n"
          ]
        },
        {
          "name": "stdout",
          "output_type": "stream",
          "text": [
            "{'loss': 2.7005, 'learning_rate': 0.0011666666666666668, 'epoch': 83.33}\n"
          ]
        },
        {
          "name": "stderr",
          "output_type": "stream",
          "text": [
            "Model weights saved in ./finetuner\\checkpoint-5000\\pytorch_model.bin\n",
            "tokenizer config file saved in ./finetuner\\checkpoint-5000\\tokenizer_config.json\n",
            "Special tokens file saved in ./finetuner\\checkpoint-5000\\special_tokens_map.json\n",
            "added tokens file saved in ./finetuner\\checkpoint-5000\\added_tokens.json\n",
            "Deleting older checkpoint [finetuner\\checkpoint-4500] due to args.save_total_limit\n",
            " 46%|████▌     | 5500/12000 [2:04:33<2:24:20,  1.33s/it]Saving model checkpoint to ./finetuner\\checkpoint-5500\n",
            "Configuration saved in ./finetuner\\checkpoint-5500\\config.json\n"
          ]
        },
        {
          "name": "stdout",
          "output_type": "stream",
          "text": [
            "{'loss': 2.5519, 'learning_rate': 0.0010833333333333333, 'epoch': 91.67}\n"
          ]
        },
        {
          "name": "stderr",
          "output_type": "stream",
          "text": [
            "Model weights saved in ./finetuner\\checkpoint-5500\\pytorch_model.bin\n",
            "tokenizer config file saved in ./finetuner\\checkpoint-5500\\tokenizer_config.json\n",
            "Special tokens file saved in ./finetuner\\checkpoint-5500\\special_tokens_map.json\n",
            "added tokens file saved in ./finetuner\\checkpoint-5500\\added_tokens.json\n",
            "Deleting older checkpoint [finetuner\\checkpoint-5000] due to args.save_total_limit\n",
            " 50%|█████     | 6000/12000 [2:15:50<2:13:36,  1.34s/it]Saving model checkpoint to ./finetuner\\checkpoint-6000\n",
            "Configuration saved in ./finetuner\\checkpoint-6000\\config.json\n"
          ]
        },
        {
          "name": "stdout",
          "output_type": "stream",
          "text": [
            "{'loss': 2.397, 'learning_rate': 0.001, 'epoch': 100.0}\n"
          ]
        },
        {
          "name": "stderr",
          "output_type": "stream",
          "text": [
            "Model weights saved in ./finetuner\\checkpoint-6000\\pytorch_model.bin\n",
            "tokenizer config file saved in ./finetuner\\checkpoint-6000\\tokenizer_config.json\n",
            "Special tokens file saved in ./finetuner\\checkpoint-6000\\special_tokens_map.json\n",
            "added tokens file saved in ./finetuner\\checkpoint-6000\\added_tokens.json\n",
            "Deleting older checkpoint [finetuner\\checkpoint-5500] due to args.save_total_limit\n",
            " 54%|█████▍    | 6500/12000 [2:27:08<2:02:57,  1.34s/it]Saving model checkpoint to ./finetuner\\checkpoint-6500\n",
            "Configuration saved in ./finetuner\\checkpoint-6500\\config.json\n"
          ]
        },
        {
          "name": "stdout",
          "output_type": "stream",
          "text": [
            "{'loss': 2.3545, 'learning_rate': 0.0009166666666666666, 'epoch': 108.33}\n"
          ]
        },
        {
          "name": "stderr",
          "output_type": "stream",
          "text": [
            "Model weights saved in ./finetuner\\checkpoint-6500\\pytorch_model.bin\n",
            "tokenizer config file saved in ./finetuner\\checkpoint-6500\\tokenizer_config.json\n",
            "Special tokens file saved in ./finetuner\\checkpoint-6500\\special_tokens_map.json\n",
            "added tokens file saved in ./finetuner\\checkpoint-6500\\added_tokens.json\n",
            "Deleting older checkpoint [finetuner\\checkpoint-6000] due to args.save_total_limit\n",
            " 58%|█████▊    | 7000/12000 [2:38:25<1:51:46,  1.34s/it]Saving model checkpoint to ./finetuner\\checkpoint-7000\n",
            "Configuration saved in ./finetuner\\checkpoint-7000\\config.json\n"
          ]
        },
        {
          "name": "stdout",
          "output_type": "stream",
          "text": [
            "{'loss': 2.3614, 'learning_rate': 0.0008333333333333334, 'epoch': 116.67}\n"
          ]
        },
        {
          "name": "stderr",
          "output_type": "stream",
          "text": [
            "Model weights saved in ./finetuner\\checkpoint-7000\\pytorch_model.bin\n",
            "tokenizer config file saved in ./finetuner\\checkpoint-7000\\tokenizer_config.json\n",
            "Special tokens file saved in ./finetuner\\checkpoint-7000\\special_tokens_map.json\n",
            "added tokens file saved in ./finetuner\\checkpoint-7000\\added_tokens.json\n",
            "Deleting older checkpoint [finetuner\\checkpoint-6500] due to args.save_total_limit\n",
            " 62%|██████▎   | 7500/12000 [2:49:43<1:39:48,  1.33s/it]Saving model checkpoint to ./finetuner\\checkpoint-7500\n",
            "Configuration saved in ./finetuner\\checkpoint-7500\\config.json\n"
          ]
        },
        {
          "name": "stdout",
          "output_type": "stream",
          "text": [
            "{'loss': 2.2945, 'learning_rate': 0.00075, 'epoch': 125.0}\n"
          ]
        },
        {
          "name": "stderr",
          "output_type": "stream",
          "text": [
            "Model weights saved in ./finetuner\\checkpoint-7500\\pytorch_model.bin\n",
            "tokenizer config file saved in ./finetuner\\checkpoint-7500\\tokenizer_config.json\n",
            "Special tokens file saved in ./finetuner\\checkpoint-7500\\special_tokens_map.json\n",
            "added tokens file saved in ./finetuner\\checkpoint-7500\\added_tokens.json\n",
            "Deleting older checkpoint [finetuner\\checkpoint-7000] due to args.save_total_limit\n",
            " 67%|██████▋   | 8000/12000 [3:01:00<1:29:49,  1.35s/it]Saving model checkpoint to ./finetuner\\checkpoint-8000\n",
            "Configuration saved in ./finetuner\\checkpoint-8000\\config.json\n"
          ]
        },
        {
          "name": "stdout",
          "output_type": "stream",
          "text": [
            "{'loss': 2.1609, 'learning_rate': 0.0006666666666666666, 'epoch': 133.33}\n"
          ]
        },
        {
          "name": "stderr",
          "output_type": "stream",
          "text": [
            "Model weights saved in ./finetuner\\checkpoint-8000\\pytorch_model.bin\n",
            "tokenizer config file saved in ./finetuner\\checkpoint-8000\\tokenizer_config.json\n",
            "Special tokens file saved in ./finetuner\\checkpoint-8000\\special_tokens_map.json\n",
            "added tokens file saved in ./finetuner\\checkpoint-8000\\added_tokens.json\n",
            "Deleting older checkpoint [finetuner\\checkpoint-7500] due to args.save_total_limit\n",
            " 71%|███████   | 8500/12000 [3:12:17<1:17:34,  1.33s/it]Saving model checkpoint to ./finetuner\\checkpoint-8500\n",
            "Configuration saved in ./finetuner\\checkpoint-8500\\config.json\n"
          ]
        },
        {
          "name": "stdout",
          "output_type": "stream",
          "text": [
            "{'loss': 2.0243, 'learning_rate': 0.0005833333333333334, 'epoch': 141.67}\n"
          ]
        },
        {
          "name": "stderr",
          "output_type": "stream",
          "text": [
            "Model weights saved in ./finetuner\\checkpoint-8500\\pytorch_model.bin\n",
            "tokenizer config file saved in ./finetuner\\checkpoint-8500\\tokenizer_config.json\n",
            "Special tokens file saved in ./finetuner\\checkpoint-8500\\special_tokens_map.json\n",
            "added tokens file saved in ./finetuner\\checkpoint-8500\\added_tokens.json\n",
            "Deleting older checkpoint [finetuner\\checkpoint-8000] due to args.save_total_limit\n",
            " 75%|███████▌  | 9000/12000 [3:23:33<1:06:39,  1.33s/it]Saving model checkpoint to ./finetuner\\checkpoint-9000\n",
            "Configuration saved in ./finetuner\\checkpoint-9000\\config.json\n"
          ]
        },
        {
          "name": "stdout",
          "output_type": "stream",
          "text": [
            "{'loss': 1.8718, 'learning_rate': 0.0005, 'epoch': 150.0}\n"
          ]
        },
        {
          "name": "stderr",
          "output_type": "stream",
          "text": [
            "Model weights saved in ./finetuner\\checkpoint-9000\\pytorch_model.bin\n",
            "tokenizer config file saved in ./finetuner\\checkpoint-9000\\tokenizer_config.json\n",
            "Special tokens file saved in ./finetuner\\checkpoint-9000\\special_tokens_map.json\n",
            "added tokens file saved in ./finetuner\\checkpoint-9000\\added_tokens.json\n",
            "Deleting older checkpoint [finetuner\\checkpoint-8500] due to args.save_total_limit\n",
            " 79%|███████▉  | 9500/12000 [3:34:50<55:13,  1.33s/it]  Saving model checkpoint to ./finetuner\\checkpoint-9500\n",
            "Configuration saved in ./finetuner\\checkpoint-9500\\config.json\n"
          ]
        },
        {
          "name": "stdout",
          "output_type": "stream",
          "text": [
            "{'loss': 1.7953, 'learning_rate': 0.0004166666666666667, 'epoch': 158.33}\n"
          ]
        },
        {
          "name": "stderr",
          "output_type": "stream",
          "text": [
            "Model weights saved in ./finetuner\\checkpoint-9500\\pytorch_model.bin\n",
            "tokenizer config file saved in ./finetuner\\checkpoint-9500\\tokenizer_config.json\n",
            "Special tokens file saved in ./finetuner\\checkpoint-9500\\special_tokens_map.json\n",
            "added tokens file saved in ./finetuner\\checkpoint-9500\\added_tokens.json\n",
            "Deleting older checkpoint [finetuner\\checkpoint-9000] due to args.save_total_limit\n",
            " 83%|████████▎ | 10000/12000 [3:46:07<44:39,  1.34s/it] Saving model checkpoint to ./finetuner\\checkpoint-10000\n",
            "Configuration saved in ./finetuner\\checkpoint-10000\\config.json\n"
          ]
        },
        {
          "name": "stdout",
          "output_type": "stream",
          "text": [
            "{'loss': 1.768, 'learning_rate': 0.0003333333333333333, 'epoch': 166.67}\n"
          ]
        },
        {
          "name": "stderr",
          "output_type": "stream",
          "text": [
            "Model weights saved in ./finetuner\\checkpoint-10000\\pytorch_model.bin\n",
            "tokenizer config file saved in ./finetuner\\checkpoint-10000\\tokenizer_config.json\n",
            "Special tokens file saved in ./finetuner\\checkpoint-10000\\special_tokens_map.json\n",
            "added tokens file saved in ./finetuner\\checkpoint-10000\\added_tokens.json\n",
            "Deleting older checkpoint [finetuner\\checkpoint-9500] due to args.save_total_limit\n",
            " 88%|████████▊ | 10500/12000 [3:57:25<33:45,  1.35s/it]  Saving model checkpoint to ./finetuner\\checkpoint-10500\n",
            "Configuration saved in ./finetuner\\checkpoint-10500\\config.json\n"
          ]
        },
        {
          "name": "stdout",
          "output_type": "stream",
          "text": [
            "{'loss': 1.6458, 'learning_rate': 0.00025, 'epoch': 175.0}\n"
          ]
        },
        {
          "name": "stderr",
          "output_type": "stream",
          "text": [
            "Model weights saved in ./finetuner\\checkpoint-10500\\pytorch_model.bin\n",
            "tokenizer config file saved in ./finetuner\\checkpoint-10500\\tokenizer_config.json\n",
            "Special tokens file saved in ./finetuner\\checkpoint-10500\\special_tokens_map.json\n",
            "added tokens file saved in ./finetuner\\checkpoint-10500\\added_tokens.json\n",
            "Deleting older checkpoint [finetuner\\checkpoint-10000] due to args.save_total_limit\n",
            " 92%|█████████▏| 11000/12000 [4:08:43<22:20,  1.34s/it]  Saving model checkpoint to ./finetuner\\checkpoint-11000\n",
            "Configuration saved in ./finetuner\\checkpoint-11000\\config.json\n"
          ]
        },
        {
          "name": "stdout",
          "output_type": "stream",
          "text": [
            "{'loss': 1.5735, 'learning_rate': 0.00016666666666666666, 'epoch': 183.33}\n"
          ]
        },
        {
          "name": "stderr",
          "output_type": "stream",
          "text": [
            "Model weights saved in ./finetuner\\checkpoint-11000\\pytorch_model.bin\n",
            "tokenizer config file saved in ./finetuner\\checkpoint-11000\\tokenizer_config.json\n",
            "Special tokens file saved in ./finetuner\\checkpoint-11000\\special_tokens_map.json\n",
            "added tokens file saved in ./finetuner\\checkpoint-11000\\added_tokens.json\n",
            "Deleting older checkpoint [finetuner\\checkpoint-10500] due to args.save_total_limit\n",
            " 96%|█████████▌| 11500/12000 [4:20:01<11:05,  1.33s/it]  Saving model checkpoint to ./finetuner\\checkpoint-11500\n",
            "Configuration saved in ./finetuner\\checkpoint-11500\\config.json\n"
          ]
        },
        {
          "name": "stdout",
          "output_type": "stream",
          "text": [
            "{'loss': 1.459, 'learning_rate': 8.333333333333333e-05, 'epoch': 191.67}\n"
          ]
        },
        {
          "name": "stderr",
          "output_type": "stream",
          "text": [
            "Model weights saved in ./finetuner\\checkpoint-11500\\pytorch_model.bin\n",
            "tokenizer config file saved in ./finetuner\\checkpoint-11500\\tokenizer_config.json\n",
            "Special tokens file saved in ./finetuner\\checkpoint-11500\\special_tokens_map.json\n",
            "added tokens file saved in ./finetuner\\checkpoint-11500\\added_tokens.json\n",
            "Deleting older checkpoint [finetuner\\checkpoint-11000] due to args.save_total_limit\n",
            "100%|██████████| 12000/12000 [4:31:20<00:00,  1.33s/it]Saving model checkpoint to ./finetuner\\checkpoint-12000\n",
            "Configuration saved in ./finetuner\\checkpoint-12000\\config.json\n"
          ]
        },
        {
          "name": "stdout",
          "output_type": "stream",
          "text": [
            "{'loss': 1.4022, 'learning_rate': 0.0, 'epoch': 200.0}\n"
          ]
        },
        {
          "name": "stderr",
          "output_type": "stream",
          "text": [
            "Model weights saved in ./finetuner\\checkpoint-12000\\pytorch_model.bin\n",
            "tokenizer config file saved in ./finetuner\\checkpoint-12000\\tokenizer_config.json\n",
            "Special tokens file saved in ./finetuner\\checkpoint-12000\\special_tokens_map.json\n",
            "added tokens file saved in ./finetuner\\checkpoint-12000\\added_tokens.json\n",
            "Deleting older checkpoint [finetuner\\checkpoint-11500] due to args.save_total_limit\n",
            "\n",
            "\n",
            "Training completed. Do not forget to share your model on huggingface.co/models =)\n",
            "\n",
            "\n",
            "100%|██████████| 12000/12000 [4:31:27<00:00,  1.36s/it]"
          ]
        },
        {
          "name": "stdout",
          "output_type": "stream",
          "text": [
            "{'train_runtime': 16287.8763, 'train_samples_per_second': 0.737, 'train_steps_per_second': 0.737, 'train_loss': 2.425979482014974, 'epoch': 200.0}\n"
          ]
        },
        {
          "name": "stderr",
          "output_type": "stream",
          "text": [
            "\n"
          ]
        },
        {
          "data": {
            "text/plain": [
              "TrainOutput(global_step=12000, training_loss=2.425979482014974, metrics={'train_runtime': 16287.8763, 'train_samples_per_second': 0.737, 'train_steps_per_second': 0.737, 'train_loss': 2.425979482014974, 'epoch': 200.0})"
            ]
          },
          "execution_count": 14,
          "metadata": {},
          "output_type": "execute_result"
        }
      ],
      "source": [
        "trainer.train()"
      ]
    },
    {
      "cell_type": "markdown",
      "metadata": {},
      "source": [
        "Расчет метрик"
      ]
    },
    {
      "cell_type": "markdown",
      "metadata": {},
      "source": [
        "loss полученный при обучении модели равен 0.4"
      ]
    },
    {
      "cell_type": "markdown",
      "metadata": {},
      "source": [
        "Сохранение модели. "
      ]
    },
    {
      "cell_type": "markdown",
      "metadata": {},
      "source": [
        "Модель сохранена в папку checkpoint-125000, для загрузки используется следующий код:"
      ]
    },
    {
      "cell_type": "code",
      "execution_count": 1,
      "metadata": {},
      "outputs": [
        {
          "name": "stderr",
          "output_type": "stream",
          "text": [
            "c:\\Users\\USER\\AppData\\Local\\Programs\\Python\\Python310\\lib\\site-packages\\tqdm\\auto.py:22: TqdmWarning: IProgress not found. Please update jupyter and ipywidgets. See https://ipywidgets.readthedocs.io/en/stable/user_install.html\n",
            "  from .autonotebook import tqdm as notebook_tqdm\n"
          ]
        }
      ],
      "source": [
        "from transformers import AutoConfig, GPT2Config\n",
        "label2id= {\n",
        "    \"negative\":0,\n",
        "    \"positive\":1,\n",
        "}\n",
        "id2label= {\n",
        "    0:\"negative\",\n",
        "    1:\"positive\",\n",
        "}\n",
        "config = GPT2Config.from_pretrained(\"./checkpoint-125000\", label2id=label2id, id2label=id2label)"
      ]
    },
    {
      "cell_type": "code",
      "execution_count": 2,
      "metadata": {},
      "outputs": [],
      "source": [
        "\n",
        "from transformers import AutoModelForSequenceClassification, AutoTokenizer\n",
        "import torch\n",
        "from transformers import GPT2LMHeadModel, GPT2Tokenizer\n",
        "DEVICE = torch.device('cuda' if torch.cuda.is_available() else 'cpu')\n",
        "tokenizer = GPT2Tokenizer.from_pretrained(\"./checkpoint-125000\")\n",
        "model = GPT2LMHeadModel.from_pretrained(\"./checkpoint-125000\",config=config).to(DEVICE) # Загружаем обученную модель из чекпоинтов"
      ]
    },
    {
      "cell_type": "markdown",
      "metadata": {},
      "source": [
        "Генерация анегдота"
      ]
    },
    {
      "cell_type": "code",
      "execution_count": 20,
      "metadata": {
        "colab": {
          "base_uri": "https://localhost:8080/",
          "height": 245
        },
        "id": "R_qjIcBUrq0j",
        "outputId": "a8bc444f-af63-45ca-f337-997144168d92"
      },
      "outputs": [
        {
          "name": "stderr",
          "output_type": "stream",
          "text": [
            "The attention mask and the pad token id were not set. As a consequence, you may observe unexpected behavior. Please pass your input's `attention_mask` to obtain reliable results.\n",
            "Setting `pad_token_id` to `eos_token_id`:50256 for open-end generation.\n"
          ]
        },
        {
          "name": "stdout",
          "output_type": "stream",
          "text": [
            "\n",
            "[SJ]- Опять водка есть?\n",
            "- Садятся в лужне, Винне...[EJ]\n",
            "- А как как как него и храма.[EJ]EJ]EJ]EJ]EJ]EJ]EJ]EJ]EJ]\n",
            "- ТEJ] Т.[EJ]EJ], а неJ] не было.[E]![EJ]EJ]EJ] не не было\n"
          ]
        }
      ],
      "source": [
        "text = \"[SJ]\"\n",
        "input_ids = tokenizer.encode(text, return_tensors=\"pt\").to(\"cuda:0\")\n",
        "model.eval()\n",
        "with torch.no_grad():\n",
        "    out = model.generate(input_ids, \n",
        "                        do_sample=True,\n",
        "                        num_beams=2,\n",
        "                        temperature=1.5,\n",
        "                        top_p=0.9,\n",
        "                        max_length=100, pad_token_id=tokenizer.eos_token_id,\n",
        "                        )\n",
        "\n",
        "generated_text = list(map(tokenizer.decode, out))[0]\n",
        "print()\n",
        "print(generated_text)"
      ]
    },
    {
      "cell_type": "markdown",
      "metadata": {},
      "source": [
        "Вывод"
      ]
    },
    {
      "cell_type": "markdown",
      "metadata": {},
      "source": [
        "В данной ЛР я узнал как подготавливать данные для обучения, а также обучать, и запускать модель."
      ]
    }
  ],
  "metadata": {
    "accelerator": "GPU",
    "colab": {
      "collapsed_sections": [],
      "include_colab_link": true,
      "provenance": []
    },
    "kernelspec": {
      "display_name": "Python 3.10.6 64-bit",
      "language": "python",
      "name": "python3"
    },
    "language_info": {
      "codemirror_mode": {
        "name": "ipython",
        "version": 3
      },
      "file_extension": ".py",
      "mimetype": "text/x-python",
      "name": "python",
      "nbconvert_exporter": "python",
      "pygments_lexer": "ipython3",
      "version": "3.10.6"
    },
    "vscode": {
      "interpreter": {
        "hash": "df95319d8ce4e1d89f5365ae10992bc1f65da593082b1d264e8f529830ec2f02"
      }
    },
    "widgets": {
      "application/vnd.jupyter.widget-state+json": {
        "0364c68a3dc8490d8b2ea78a095bbcf0": {
          "model_module": "@jupyter-widgets/controls",
          "model_module_version": "1.5.0",
          "model_name": "FloatProgressModel",
          "state": {
            "_dom_classes": [],
            "_model_module": "@jupyter-widgets/controls",
            "_model_module_version": "1.5.0",
            "_model_name": "FloatProgressModel",
            "_view_count": null,
            "_view_module": "@jupyter-widgets/controls",
            "_view_module_version": "1.5.0",
            "_view_name": "ProgressView",
            "bar_style": "success",
            "description": "",
            "description_tooltip": null,
            "layout": "IPY_MODEL_428d4c95d110440596571547473a93e6",
            "max": 608,
            "min": 0,
            "orientation": "horizontal",
            "style": "IPY_MODEL_d6c828d68cae40bea12f45be4a1f01f1",
            "value": 608
          }
        },
        "061bf0b217064c8a8891610aaf241b26": {
          "model_module": "@jupyter-widgets/base",
          "model_module_version": "1.2.0",
          "model_name": "LayoutModel",
          "state": {
            "_model_module": "@jupyter-widgets/base",
            "_model_module_version": "1.2.0",
            "_model_name": "LayoutModel",
            "_view_count": null,
            "_view_module": "@jupyter-widgets/base",
            "_view_module_version": "1.2.0",
            "_view_name": "LayoutView",
            "align_content": null,
            "align_items": null,
            "align_self": null,
            "border": null,
            "bottom": null,
            "display": null,
            "flex": null,
            "flex_flow": null,
            "grid_area": null,
            "grid_auto_columns": null,
            "grid_auto_flow": null,
            "grid_auto_rows": null,
            "grid_column": null,
            "grid_gap": null,
            "grid_row": null,
            "grid_template_areas": null,
            "grid_template_columns": null,
            "grid_template_rows": null,
            "height": null,
            "justify_content": null,
            "justify_items": null,
            "left": null,
            "margin": null,
            "max_height": null,
            "max_width": null,
            "min_height": null,
            "min_width": null,
            "object_fit": null,
            "object_position": null,
            "order": null,
            "overflow": null,
            "overflow_x": null,
            "overflow_y": null,
            "padding": null,
            "right": null,
            "top": null,
            "visibility": null,
            "width": null
          }
        },
        "071b11bfa75e43bca6464a14f92ae467": {
          "model_module": "@jupyter-widgets/controls",
          "model_module_version": "1.5.0",
          "model_name": "ProgressStyleModel",
          "state": {
            "_model_module": "@jupyter-widgets/controls",
            "_model_module_version": "1.5.0",
            "_model_name": "ProgressStyleModel",
            "_view_count": null,
            "_view_module": "@jupyter-widgets/base",
            "_view_module_version": "1.2.0",
            "_view_name": "StyleView",
            "bar_color": null,
            "description_width": ""
          }
        },
        "0b992b9a96814afb840805e9e39243f7": {
          "model_module": "@jupyter-widgets/controls",
          "model_module_version": "1.5.0",
          "model_name": "HBoxModel",
          "state": {
            "_dom_classes": [],
            "_model_module": "@jupyter-widgets/controls",
            "_model_module_version": "1.5.0",
            "_model_name": "HBoxModel",
            "_view_count": null,
            "_view_module": "@jupyter-widgets/controls",
            "_view_module_version": "1.5.0",
            "_view_name": "HBoxView",
            "box_style": "",
            "children": [
              "IPY_MODEL_5edce64309e84f81bd67667349b5790d",
              "IPY_MODEL_c8dfa633851d4c10a5d77dcdcfa18de2",
              "IPY_MODEL_fd11dbe3335742519b03c2abe609a211"
            ],
            "layout": "IPY_MODEL_96d4ecfdf59049f7bf8483d376ab81e4"
          }
        },
        "0d9421e44f7642fa878cd4de363ba1f8": {
          "model_module": "@jupyter-widgets/base",
          "model_module_version": "1.2.0",
          "model_name": "LayoutModel",
          "state": {
            "_model_module": "@jupyter-widgets/base",
            "_model_module_version": "1.2.0",
            "_model_name": "LayoutModel",
            "_view_count": null,
            "_view_module": "@jupyter-widgets/base",
            "_view_module_version": "1.2.0",
            "_view_name": "LayoutView",
            "align_content": null,
            "align_items": null,
            "align_self": null,
            "border": null,
            "bottom": null,
            "display": null,
            "flex": null,
            "flex_flow": null,
            "grid_area": null,
            "grid_auto_columns": null,
            "grid_auto_flow": null,
            "grid_auto_rows": null,
            "grid_column": null,
            "grid_gap": null,
            "grid_row": null,
            "grid_template_areas": null,
            "grid_template_columns": null,
            "grid_template_rows": null,
            "height": null,
            "justify_content": null,
            "justify_items": null,
            "left": null,
            "margin": null,
            "max_height": null,
            "max_width": null,
            "min_height": null,
            "min_width": null,
            "object_fit": null,
            "object_position": null,
            "order": null,
            "overflow": null,
            "overflow_x": null,
            "overflow_y": null,
            "padding": null,
            "right": null,
            "top": null,
            "visibility": null,
            "width": null
          }
        },
        "104e53154a2048b2ad254370fc16e506": {
          "model_module": "@jupyter-widgets/controls",
          "model_module_version": "1.5.0",
          "model_name": "HTMLModel",
          "state": {
            "_dom_classes": [],
            "_model_module": "@jupyter-widgets/controls",
            "_model_module_version": "1.5.0",
            "_model_name": "HTMLModel",
            "_view_count": null,
            "_view_module": "@jupyter-widgets/controls",
            "_view_module_version": "1.5.0",
            "_view_name": "HTMLView",
            "description": "",
            "description_tooltip": null,
            "layout": "IPY_MODEL_5b2fdd6a67c045ba98a0dc10a7614e04",
            "placeholder": "​",
            "style": "IPY_MODEL_98889590496f4b1c8f98fb606d2cd91c",
            "value": " 1.27M/1.27M [00:01&lt;00:00, 944kB/s]"
          }
        },
        "10a09d4d27914e709de19ebaa986a934": {
          "model_module": "@jupyter-widgets/controls",
          "model_module_version": "1.5.0",
          "model_name": "DescriptionStyleModel",
          "state": {
            "_model_module": "@jupyter-widgets/controls",
            "_model_module_version": "1.5.0",
            "_model_name": "DescriptionStyleModel",
            "_view_count": null,
            "_view_module": "@jupyter-widgets/base",
            "_view_module_version": "1.2.0",
            "_view_name": "StyleView",
            "description_width": ""
          }
        },
        "1248401f06cd453d93d8fe282c022a1b": {
          "model_module": "@jupyter-widgets/base",
          "model_module_version": "1.2.0",
          "model_name": "LayoutModel",
          "state": {
            "_model_module": "@jupyter-widgets/base",
            "_model_module_version": "1.2.0",
            "_model_name": "LayoutModel",
            "_view_count": null,
            "_view_module": "@jupyter-widgets/base",
            "_view_module_version": "1.2.0",
            "_view_name": "LayoutView",
            "align_content": null,
            "align_items": null,
            "align_self": null,
            "border": null,
            "bottom": null,
            "display": null,
            "flex": null,
            "flex_flow": null,
            "grid_area": null,
            "grid_auto_columns": null,
            "grid_auto_flow": null,
            "grid_auto_rows": null,
            "grid_column": null,
            "grid_gap": null,
            "grid_row": null,
            "grid_template_areas": null,
            "grid_template_columns": null,
            "grid_template_rows": null,
            "height": null,
            "justify_content": null,
            "justify_items": null,
            "left": null,
            "margin": null,
            "max_height": null,
            "max_width": null,
            "min_height": null,
            "min_width": null,
            "object_fit": null,
            "object_position": null,
            "order": null,
            "overflow": null,
            "overflow_x": null,
            "overflow_y": null,
            "padding": null,
            "right": null,
            "top": null,
            "visibility": null,
            "width": null
          }
        },
        "1253d4f69d104ffbafc1d060507e4d60": {
          "model_module": "@jupyter-widgets/controls",
          "model_module_version": "1.5.0",
          "model_name": "ProgressStyleModel",
          "state": {
            "_model_module": "@jupyter-widgets/controls",
            "_model_module_version": "1.5.0",
            "_model_name": "ProgressStyleModel",
            "_view_count": null,
            "_view_module": "@jupyter-widgets/base",
            "_view_module_version": "1.2.0",
            "_view_name": "StyleView",
            "bar_color": null,
            "description_width": ""
          }
        },
        "1580c3fe26b945838b57a8cd95f29517": {
          "model_module": "@jupyter-widgets/base",
          "model_module_version": "1.2.0",
          "model_name": "LayoutModel",
          "state": {
            "_model_module": "@jupyter-widgets/base",
            "_model_module_version": "1.2.0",
            "_model_name": "LayoutModel",
            "_view_count": null,
            "_view_module": "@jupyter-widgets/base",
            "_view_module_version": "1.2.0",
            "_view_name": "LayoutView",
            "align_content": null,
            "align_items": null,
            "align_self": null,
            "border": null,
            "bottom": null,
            "display": null,
            "flex": null,
            "flex_flow": null,
            "grid_area": null,
            "grid_auto_columns": null,
            "grid_auto_flow": null,
            "grid_auto_rows": null,
            "grid_column": null,
            "grid_gap": null,
            "grid_row": null,
            "grid_template_areas": null,
            "grid_template_columns": null,
            "grid_template_rows": null,
            "height": null,
            "justify_content": null,
            "justify_items": null,
            "left": null,
            "margin": null,
            "max_height": null,
            "max_width": null,
            "min_height": null,
            "min_width": null,
            "object_fit": null,
            "object_position": null,
            "order": null,
            "overflow": null,
            "overflow_x": null,
            "overflow_y": null,
            "padding": null,
            "right": null,
            "top": null,
            "visibility": null,
            "width": null
          }
        },
        "1843a96b9eb44670b4b4139680764dcc": {
          "model_module": "@jupyter-widgets/controls",
          "model_module_version": "1.5.0",
          "model_name": "ProgressStyleModel",
          "state": {
            "_model_module": "@jupyter-widgets/controls",
            "_model_module_version": "1.5.0",
            "_model_name": "ProgressStyleModel",
            "_view_count": null,
            "_view_module": "@jupyter-widgets/base",
            "_view_module_version": "1.2.0",
            "_view_name": "StyleView",
            "bar_color": null,
            "description_width": ""
          }
        },
        "251175411a314f419d571fd5e6244c97": {
          "model_module": "@jupyter-widgets/controls",
          "model_module_version": "1.5.0",
          "model_name": "FloatProgressModel",
          "state": {
            "_dom_classes": [],
            "_model_module": "@jupyter-widgets/controls",
            "_model_module_version": "1.5.0",
            "_model_name": "FloatProgressModel",
            "_view_count": null,
            "_view_module": "@jupyter-widgets/controls",
            "_view_module_version": "1.5.0",
            "_view_name": "ProgressView",
            "bar_style": "success",
            "description": "",
            "description_tooltip": null,
            "layout": "IPY_MODEL_0d9421e44f7642fa878cd4de363ba1f8",
            "max": 1713123,
            "min": 0,
            "orientation": "horizontal",
            "style": "IPY_MODEL_1253d4f69d104ffbafc1d060507e4d60",
            "value": 1713123
          }
        },
        "251df80228934a17b7804012c61c67d4": {
          "model_module": "@jupyter-widgets/controls",
          "model_module_version": "1.5.0",
          "model_name": "HTMLModel",
          "state": {
            "_dom_classes": [],
            "_model_module": "@jupyter-widgets/controls",
            "_model_module_version": "1.5.0",
            "_model_name": "HTMLModel",
            "_view_count": null,
            "_view_module": "@jupyter-widgets/controls",
            "_view_module_version": "1.5.0",
            "_view_name": "HTMLView",
            "description": "",
            "description_tooltip": null,
            "layout": "IPY_MODEL_8b4cc2451c6a4d17bfc6f3d0f3c326f8",
            "placeholder": "​",
            "style": "IPY_MODEL_851b34f41573488185dabf49ad67ac2a",
            "value": "Downloading: 100%"
          }
        },
        "262d72c81c6c4c34999bae1e894eb1d1": {
          "model_module": "@jupyter-widgets/controls",
          "model_module_version": "1.5.0",
          "model_name": "FloatProgressModel",
          "state": {
            "_dom_classes": [],
            "_model_module": "@jupyter-widgets/controls",
            "_model_module_version": "1.5.0",
            "_model_name": "FloatProgressModel",
            "_view_count": null,
            "_view_module": "@jupyter-widgets/controls",
            "_view_module_version": "1.5.0",
            "_view_name": "ProgressView",
            "bar_style": "success",
            "description": "",
            "description_tooltip": null,
            "layout": "IPY_MODEL_e94c98bead1d4ee391fb82519828dd5c",
            "max": 1270925,
            "min": 0,
            "orientation": "horizontal",
            "style": "IPY_MODEL_1843a96b9eb44670b4b4139680764dcc",
            "value": 1270925
          }
        },
        "27bd122b04e14864a623e9350364a010": {
          "model_module": "@jupyter-widgets/controls",
          "model_module_version": "1.5.0",
          "model_name": "HTMLModel",
          "state": {
            "_dom_classes": [],
            "_model_module": "@jupyter-widgets/controls",
            "_model_module_version": "1.5.0",
            "_model_name": "HTMLModel",
            "_view_count": null,
            "_view_module": "@jupyter-widgets/controls",
            "_view_module_version": "1.5.0",
            "_view_name": "HTMLView",
            "description": "",
            "description_tooltip": null,
            "layout": "IPY_MODEL_a239ed0fae664ab981ef6082a5af37cc",
            "placeholder": "​",
            "style": "IPY_MODEL_6b86505debeb46778ea566c61bf55f38",
            "value": " 609/609 [00:00&lt;00:00, 10.6kB/s]"
          }
        },
        "2d9fcdd38796435d8d6ae105024970ae": {
          "model_module": "@jupyter-widgets/controls",
          "model_module_version": "1.5.0",
          "model_name": "DescriptionStyleModel",
          "state": {
            "_model_module": "@jupyter-widgets/controls",
            "_model_module_version": "1.5.0",
            "_model_name": "DescriptionStyleModel",
            "_view_count": null,
            "_view_module": "@jupyter-widgets/base",
            "_view_module_version": "1.2.0",
            "_view_name": "StyleView",
            "description_width": ""
          }
        },
        "2f7fef9888a2412a8322f652b13c1a6b": {
          "model_module": "@jupyter-widgets/base",
          "model_module_version": "1.2.0",
          "model_name": "LayoutModel",
          "state": {
            "_model_module": "@jupyter-widgets/base",
            "_model_module_version": "1.2.0",
            "_model_name": "LayoutModel",
            "_view_count": null,
            "_view_module": "@jupyter-widgets/base",
            "_view_module_version": "1.2.0",
            "_view_name": "LayoutView",
            "align_content": null,
            "align_items": null,
            "align_self": null,
            "border": null,
            "bottom": null,
            "display": null,
            "flex": null,
            "flex_flow": null,
            "grid_area": null,
            "grid_auto_columns": null,
            "grid_auto_flow": null,
            "grid_auto_rows": null,
            "grid_column": null,
            "grid_gap": null,
            "grid_row": null,
            "grid_template_areas": null,
            "grid_template_columns": null,
            "grid_template_rows": null,
            "height": null,
            "justify_content": null,
            "justify_items": null,
            "left": null,
            "margin": null,
            "max_height": null,
            "max_width": null,
            "min_height": null,
            "min_width": null,
            "object_fit": null,
            "object_position": null,
            "order": null,
            "overflow": null,
            "overflow_x": null,
            "overflow_y": null,
            "padding": null,
            "right": null,
            "top": null,
            "visibility": null,
            "width": null
          }
        },
        "331ce1ca31004cffb244c867b196850e": {
          "model_module": "@jupyter-widgets/controls",
          "model_module_version": "1.5.0",
          "model_name": "HBoxModel",
          "state": {
            "_dom_classes": [],
            "_model_module": "@jupyter-widgets/controls",
            "_model_module_version": "1.5.0",
            "_model_name": "HBoxModel",
            "_view_count": null,
            "_view_module": "@jupyter-widgets/controls",
            "_view_module_version": "1.5.0",
            "_view_name": "HBoxView",
            "box_style": "",
            "children": [
              "IPY_MODEL_9d47b7f26ebc42dfbdc2c07c7a3e64fe",
              "IPY_MODEL_476e0f05faeb4adda268a27edfbb1477",
              "IPY_MODEL_104e53154a2048b2ad254370fc16e506"
            ],
            "layout": "IPY_MODEL_78798f7ca8a545a5a812688aad0a6d6e"
          }
        },
        "3a9205ea15034361a9dd7080fb04f783": {
          "model_module": "@jupyter-widgets/base",
          "model_module_version": "1.2.0",
          "model_name": "LayoutModel",
          "state": {
            "_model_module": "@jupyter-widgets/base",
            "_model_module_version": "1.2.0",
            "_model_name": "LayoutModel",
            "_view_count": null,
            "_view_module": "@jupyter-widgets/base",
            "_view_module_version": "1.2.0",
            "_view_name": "LayoutView",
            "align_content": null,
            "align_items": null,
            "align_self": null,
            "border": null,
            "bottom": null,
            "display": null,
            "flex": null,
            "flex_flow": null,
            "grid_area": null,
            "grid_auto_columns": null,
            "grid_auto_flow": null,
            "grid_auto_rows": null,
            "grid_column": null,
            "grid_gap": null,
            "grid_row": null,
            "grid_template_areas": null,
            "grid_template_columns": null,
            "grid_template_rows": null,
            "height": null,
            "justify_content": null,
            "justify_items": null,
            "left": null,
            "margin": null,
            "max_height": null,
            "max_width": null,
            "min_height": null,
            "min_width": null,
            "object_fit": null,
            "object_position": null,
            "order": null,
            "overflow": null,
            "overflow_x": null,
            "overflow_y": null,
            "padding": null,
            "right": null,
            "top": null,
            "visibility": null,
            "width": null
          }
        },
        "428d4c95d110440596571547473a93e6": {
          "model_module": "@jupyter-widgets/base",
          "model_module_version": "1.2.0",
          "model_name": "LayoutModel",
          "state": {
            "_model_module": "@jupyter-widgets/base",
            "_model_module_version": "1.2.0",
            "_model_name": "LayoutModel",
            "_view_count": null,
            "_view_module": "@jupyter-widgets/base",
            "_view_module_version": "1.2.0",
            "_view_name": "LayoutView",
            "align_content": null,
            "align_items": null,
            "align_self": null,
            "border": null,
            "bottom": null,
            "display": null,
            "flex": null,
            "flex_flow": null,
            "grid_area": null,
            "grid_auto_columns": null,
            "grid_auto_flow": null,
            "grid_auto_rows": null,
            "grid_column": null,
            "grid_gap": null,
            "grid_row": null,
            "grid_template_areas": null,
            "grid_template_columns": null,
            "grid_template_rows": null,
            "height": null,
            "justify_content": null,
            "justify_items": null,
            "left": null,
            "margin": null,
            "max_height": null,
            "max_width": null,
            "min_height": null,
            "min_width": null,
            "object_fit": null,
            "object_position": null,
            "order": null,
            "overflow": null,
            "overflow_x": null,
            "overflow_y": null,
            "padding": null,
            "right": null,
            "top": null,
            "visibility": null,
            "width": null
          }
        },
        "476e0f05faeb4adda268a27edfbb1477": {
          "model_module": "@jupyter-widgets/controls",
          "model_module_version": "1.5.0",
          "model_name": "FloatProgressModel",
          "state": {
            "_dom_classes": [],
            "_model_module": "@jupyter-widgets/controls",
            "_model_module_version": "1.5.0",
            "_model_name": "FloatProgressModel",
            "_view_count": null,
            "_view_module": "@jupyter-widgets/controls",
            "_view_module_version": "1.5.0",
            "_view_name": "ProgressView",
            "bar_style": "success",
            "description": "",
            "description_tooltip": null,
            "layout": "IPY_MODEL_b9d68baebb0c4e3cb142b34bada1c026",
            "max": 1270925,
            "min": 0,
            "orientation": "horizontal",
            "style": "IPY_MODEL_75ac2723f2304be4803a1fafb6a3e7f3",
            "value": 1270925
          }
        },
        "47c076adb58541acacd7c3e619f279f0": {
          "model_module": "@jupyter-widgets/controls",
          "model_module_version": "1.5.0",
          "model_name": "HTMLModel",
          "state": {
            "_dom_classes": [],
            "_model_module": "@jupyter-widgets/controls",
            "_model_module_version": "1.5.0",
            "_model_name": "HTMLModel",
            "_view_count": null,
            "_view_module": "@jupyter-widgets/controls",
            "_view_module_version": "1.5.0",
            "_view_name": "HTMLView",
            "description": "",
            "description_tooltip": null,
            "layout": "IPY_MODEL_78c8525af1164c80a89768a92ac6b684",
            "placeholder": "​",
            "style": "IPY_MODEL_2d9fcdd38796435d8d6ae105024970ae",
            "value": "Downloading: 100%"
          }
        },
        "481daac4c5064b508bc67a744f6e48bf": {
          "model_module": "@jupyter-widgets/base",
          "model_module_version": "1.2.0",
          "model_name": "LayoutModel",
          "state": {
            "_model_module": "@jupyter-widgets/base",
            "_model_module_version": "1.2.0",
            "_model_name": "LayoutModel",
            "_view_count": null,
            "_view_module": "@jupyter-widgets/base",
            "_view_module_version": "1.2.0",
            "_view_name": "LayoutView",
            "align_content": null,
            "align_items": null,
            "align_self": null,
            "border": null,
            "bottom": null,
            "display": null,
            "flex": null,
            "flex_flow": null,
            "grid_area": null,
            "grid_auto_columns": null,
            "grid_auto_flow": null,
            "grid_auto_rows": null,
            "grid_column": null,
            "grid_gap": null,
            "grid_row": null,
            "grid_template_areas": null,
            "grid_template_columns": null,
            "grid_template_rows": null,
            "height": null,
            "justify_content": null,
            "justify_items": null,
            "left": null,
            "margin": null,
            "max_height": null,
            "max_width": null,
            "min_height": null,
            "min_width": null,
            "object_fit": null,
            "object_position": null,
            "order": null,
            "overflow": null,
            "overflow_x": null,
            "overflow_y": null,
            "padding": null,
            "right": null,
            "top": null,
            "visibility": null,
            "width": null
          }
        },
        "490ae6b7fc9e482296066f60c5f943d5": {
          "model_module": "@jupyter-widgets/base",
          "model_module_version": "1.2.0",
          "model_name": "LayoutModel",
          "state": {
            "_model_module": "@jupyter-widgets/base",
            "_model_module_version": "1.2.0",
            "_model_name": "LayoutModel",
            "_view_count": null,
            "_view_module": "@jupyter-widgets/base",
            "_view_module_version": "1.2.0",
            "_view_name": "LayoutView",
            "align_content": null,
            "align_items": null,
            "align_self": null,
            "border": null,
            "bottom": null,
            "display": null,
            "flex": null,
            "flex_flow": null,
            "grid_area": null,
            "grid_auto_columns": null,
            "grid_auto_flow": null,
            "grid_auto_rows": null,
            "grid_column": null,
            "grid_gap": null,
            "grid_row": null,
            "grid_template_areas": null,
            "grid_template_columns": null,
            "grid_template_rows": null,
            "height": null,
            "justify_content": null,
            "justify_items": null,
            "left": null,
            "margin": null,
            "max_height": null,
            "max_width": null,
            "min_height": null,
            "min_width": null,
            "object_fit": null,
            "object_position": null,
            "order": null,
            "overflow": null,
            "overflow_x": null,
            "overflow_y": null,
            "padding": null,
            "right": null,
            "top": null,
            "visibility": null,
            "width": null
          }
        },
        "5078a6d3c49b4e55a29993c466006858": {
          "model_module": "@jupyter-widgets/base",
          "model_module_version": "1.2.0",
          "model_name": "LayoutModel",
          "state": {
            "_model_module": "@jupyter-widgets/base",
            "_model_module_version": "1.2.0",
            "_model_name": "LayoutModel",
            "_view_count": null,
            "_view_module": "@jupyter-widgets/base",
            "_view_module_version": "1.2.0",
            "_view_name": "LayoutView",
            "align_content": null,
            "align_items": null,
            "align_self": null,
            "border": null,
            "bottom": null,
            "display": null,
            "flex": null,
            "flex_flow": null,
            "grid_area": null,
            "grid_auto_columns": null,
            "grid_auto_flow": null,
            "grid_auto_rows": null,
            "grid_column": null,
            "grid_gap": null,
            "grid_row": null,
            "grid_template_areas": null,
            "grid_template_columns": null,
            "grid_template_rows": null,
            "height": null,
            "justify_content": null,
            "justify_items": null,
            "left": null,
            "margin": null,
            "max_height": null,
            "max_width": null,
            "min_height": null,
            "min_width": null,
            "object_fit": null,
            "object_position": null,
            "order": null,
            "overflow": null,
            "overflow_x": null,
            "overflow_y": null,
            "padding": null,
            "right": null,
            "top": null,
            "visibility": null,
            "width": null
          }
        },
        "5610e5edefa849498183605776bb8086": {
          "model_module": "@jupyter-widgets/controls",
          "model_module_version": "1.5.0",
          "model_name": "HBoxModel",
          "state": {
            "_dom_classes": [],
            "_model_module": "@jupyter-widgets/controls",
            "_model_module_version": "1.5.0",
            "_model_name": "HBoxModel",
            "_view_count": null,
            "_view_module": "@jupyter-widgets/controls",
            "_view_module_version": "1.5.0",
            "_view_name": "HBoxView",
            "box_style": "",
            "children": [
              "IPY_MODEL_adae1c2cf4fb4d3baa88c141c75c5f0f",
              "IPY_MODEL_c9546b0039db4ee1a199599e59469d3f",
              "IPY_MODEL_c66d670e683d4b27b1ee1a76dbed80b6"
            ],
            "layout": "IPY_MODEL_2f7fef9888a2412a8322f652b13c1a6b"
          }
        },
        "59a941d8fa3a4fa1b16a3f93857bf8c5": {
          "model_module": "@jupyter-widgets/base",
          "model_module_version": "1.2.0",
          "model_name": "LayoutModel",
          "state": {
            "_model_module": "@jupyter-widgets/base",
            "_model_module_version": "1.2.0",
            "_model_name": "LayoutModel",
            "_view_count": null,
            "_view_module": "@jupyter-widgets/base",
            "_view_module_version": "1.2.0",
            "_view_name": "LayoutView",
            "align_content": null,
            "align_items": null,
            "align_self": null,
            "border": null,
            "bottom": null,
            "display": null,
            "flex": null,
            "flex_flow": null,
            "grid_area": null,
            "grid_auto_columns": null,
            "grid_auto_flow": null,
            "grid_auto_rows": null,
            "grid_column": null,
            "grid_gap": null,
            "grid_row": null,
            "grid_template_areas": null,
            "grid_template_columns": null,
            "grid_template_rows": null,
            "height": null,
            "justify_content": null,
            "justify_items": null,
            "left": null,
            "margin": null,
            "max_height": null,
            "max_width": null,
            "min_height": null,
            "min_width": null,
            "object_fit": null,
            "object_position": null,
            "order": null,
            "overflow": null,
            "overflow_x": null,
            "overflow_y": null,
            "padding": null,
            "right": null,
            "top": null,
            "visibility": null,
            "width": null
          }
        },
        "5b2fdd6a67c045ba98a0dc10a7614e04": {
          "model_module": "@jupyter-widgets/base",
          "model_module_version": "1.2.0",
          "model_name": "LayoutModel",
          "state": {
            "_model_module": "@jupyter-widgets/base",
            "_model_module_version": "1.2.0",
            "_model_name": "LayoutModel",
            "_view_count": null,
            "_view_module": "@jupyter-widgets/base",
            "_view_module_version": "1.2.0",
            "_view_name": "LayoutView",
            "align_content": null,
            "align_items": null,
            "align_self": null,
            "border": null,
            "bottom": null,
            "display": null,
            "flex": null,
            "flex_flow": null,
            "grid_area": null,
            "grid_auto_columns": null,
            "grid_auto_flow": null,
            "grid_auto_rows": null,
            "grid_column": null,
            "grid_gap": null,
            "grid_row": null,
            "grid_template_areas": null,
            "grid_template_columns": null,
            "grid_template_rows": null,
            "height": null,
            "justify_content": null,
            "justify_items": null,
            "left": null,
            "margin": null,
            "max_height": null,
            "max_width": null,
            "min_height": null,
            "min_width": null,
            "object_fit": null,
            "object_position": null,
            "order": null,
            "overflow": null,
            "overflow_x": null,
            "overflow_y": null,
            "padding": null,
            "right": null,
            "top": null,
            "visibility": null,
            "width": null
          }
        },
        "5bd23d7f2be04795810c9cb46e026340": {
          "model_module": "@jupyter-widgets/base",
          "model_module_version": "1.2.0",
          "model_name": "LayoutModel",
          "state": {
            "_model_module": "@jupyter-widgets/base",
            "_model_module_version": "1.2.0",
            "_model_name": "LayoutModel",
            "_view_count": null,
            "_view_module": "@jupyter-widgets/base",
            "_view_module_version": "1.2.0",
            "_view_name": "LayoutView",
            "align_content": null,
            "align_items": null,
            "align_self": null,
            "border": null,
            "bottom": null,
            "display": null,
            "flex": null,
            "flex_flow": null,
            "grid_area": null,
            "grid_auto_columns": null,
            "grid_auto_flow": null,
            "grid_auto_rows": null,
            "grid_column": null,
            "grid_gap": null,
            "grid_row": null,
            "grid_template_areas": null,
            "grid_template_columns": null,
            "grid_template_rows": null,
            "height": null,
            "justify_content": null,
            "justify_items": null,
            "left": null,
            "margin": null,
            "max_height": null,
            "max_width": null,
            "min_height": null,
            "min_width": null,
            "object_fit": null,
            "object_position": null,
            "order": null,
            "overflow": null,
            "overflow_x": null,
            "overflow_y": null,
            "padding": null,
            "right": null,
            "top": null,
            "visibility": null,
            "width": null
          }
        },
        "5c83d43f648544699ceb43e5f6a4bbbc": {
          "model_module": "@jupyter-widgets/controls",
          "model_module_version": "1.5.0",
          "model_name": "HTMLModel",
          "state": {
            "_dom_classes": [],
            "_model_module": "@jupyter-widgets/controls",
            "_model_module_version": "1.5.0",
            "_model_name": "HTMLModel",
            "_view_count": null,
            "_view_module": "@jupyter-widgets/controls",
            "_view_module_version": "1.5.0",
            "_view_name": "HTMLView",
            "description": "",
            "description_tooltip": null,
            "layout": "IPY_MODEL_5e7ced537a1b462483f9454e8739b2bd",
            "placeholder": "​",
            "style": "IPY_MODEL_10a09d4d27914e709de19ebaa986a934",
            "value": " 1.71M/1.71M [00:01&lt;00:00, 1.56MB/s]"
          }
        },
        "5e7ced537a1b462483f9454e8739b2bd": {
          "model_module": "@jupyter-widgets/base",
          "model_module_version": "1.2.0",
          "model_name": "LayoutModel",
          "state": {
            "_model_module": "@jupyter-widgets/base",
            "_model_module_version": "1.2.0",
            "_model_name": "LayoutModel",
            "_view_count": null,
            "_view_module": "@jupyter-widgets/base",
            "_view_module_version": "1.2.0",
            "_view_name": "LayoutView",
            "align_content": null,
            "align_items": null,
            "align_self": null,
            "border": null,
            "bottom": null,
            "display": null,
            "flex": null,
            "flex_flow": null,
            "grid_area": null,
            "grid_auto_columns": null,
            "grid_auto_flow": null,
            "grid_auto_rows": null,
            "grid_column": null,
            "grid_gap": null,
            "grid_row": null,
            "grid_template_areas": null,
            "grid_template_columns": null,
            "grid_template_rows": null,
            "height": null,
            "justify_content": null,
            "justify_items": null,
            "left": null,
            "margin": null,
            "max_height": null,
            "max_width": null,
            "min_height": null,
            "min_width": null,
            "object_fit": null,
            "object_position": null,
            "order": null,
            "overflow": null,
            "overflow_x": null,
            "overflow_y": null,
            "padding": null,
            "right": null,
            "top": null,
            "visibility": null,
            "width": null
          }
        },
        "5edce64309e84f81bd67667349b5790d": {
          "model_module": "@jupyter-widgets/controls",
          "model_module_version": "1.5.0",
          "model_name": "HTMLModel",
          "state": {
            "_dom_classes": [],
            "_model_module": "@jupyter-widgets/controls",
            "_model_module_version": "1.5.0",
            "_model_name": "HTMLModel",
            "_view_count": null,
            "_view_module": "@jupyter-widgets/controls",
            "_view_module_version": "1.5.0",
            "_view_name": "HTMLView",
            "description": "",
            "description_tooltip": null,
            "layout": "IPY_MODEL_59a941d8fa3a4fa1b16a3f93857bf8c5",
            "placeholder": "​",
            "style": "IPY_MODEL_62a08dc3eb114499b7199b3f56ba0657",
            "value": "Downloading:  11%"
          }
        },
        "619033369fd3470393661715bd6c48f9": {
          "model_module": "@jupyter-widgets/controls",
          "model_module_version": "1.5.0",
          "model_name": "HTMLModel",
          "state": {
            "_dom_classes": [],
            "_model_module": "@jupyter-widgets/controls",
            "_model_module_version": "1.5.0",
            "_model_name": "HTMLModel",
            "_view_count": null,
            "_view_module": "@jupyter-widgets/controls",
            "_view_module_version": "1.5.0",
            "_view_name": "HTMLView",
            "description": "",
            "description_tooltip": null,
            "layout": "IPY_MODEL_715815e0f897468886b1ff9ccdf44d6e",
            "placeholder": "​",
            "style": "IPY_MODEL_9f5ceb78edd54cdebd1c973e09bd41b2",
            "value": " 608/608 [00:00&lt;00:00, 12.3kB/s]"
          }
        },
        "62a08dc3eb114499b7199b3f56ba0657": {
          "model_module": "@jupyter-widgets/controls",
          "model_module_version": "1.5.0",
          "model_name": "DescriptionStyleModel",
          "state": {
            "_model_module": "@jupyter-widgets/controls",
            "_model_module_version": "1.5.0",
            "_model_name": "DescriptionStyleModel",
            "_view_count": null,
            "_view_module": "@jupyter-widgets/base",
            "_view_module_version": "1.2.0",
            "_view_name": "StyleView",
            "description_width": ""
          }
        },
        "62f8ec9bf30c47c1944421ffedc9df9e": {
          "model_module": "@jupyter-widgets/base",
          "model_module_version": "1.2.0",
          "model_name": "LayoutModel",
          "state": {
            "_model_module": "@jupyter-widgets/base",
            "_model_module_version": "1.2.0",
            "_model_name": "LayoutModel",
            "_view_count": null,
            "_view_module": "@jupyter-widgets/base",
            "_view_module_version": "1.2.0",
            "_view_name": "LayoutView",
            "align_content": null,
            "align_items": null,
            "align_self": null,
            "border": null,
            "bottom": null,
            "display": null,
            "flex": null,
            "flex_flow": null,
            "grid_area": null,
            "grid_auto_columns": null,
            "grid_auto_flow": null,
            "grid_auto_rows": null,
            "grid_column": null,
            "grid_gap": null,
            "grid_row": null,
            "grid_template_areas": null,
            "grid_template_columns": null,
            "grid_template_rows": null,
            "height": null,
            "justify_content": null,
            "justify_items": null,
            "left": null,
            "margin": null,
            "max_height": null,
            "max_width": null,
            "min_height": null,
            "min_width": null,
            "object_fit": null,
            "object_position": null,
            "order": null,
            "overflow": null,
            "overflow_x": null,
            "overflow_y": null,
            "padding": null,
            "right": null,
            "top": null,
            "visibility": null,
            "width": null
          }
        },
        "6304af0752bf40f9a7cb45898e3708d0": {
          "model_module": "@jupyter-widgets/controls",
          "model_module_version": "1.5.0",
          "model_name": "HBoxModel",
          "state": {
            "_dom_classes": [],
            "_model_module": "@jupyter-widgets/controls",
            "_model_module_version": "1.5.0",
            "_model_name": "HBoxModel",
            "_view_count": null,
            "_view_module": "@jupyter-widgets/controls",
            "_view_module_version": "1.5.0",
            "_view_name": "HBoxView",
            "box_style": "",
            "children": [
              "IPY_MODEL_251df80228934a17b7804012c61c67d4",
              "IPY_MODEL_65118ebe223a4a21bf9f18b427bd2a80",
              "IPY_MODEL_5c83d43f648544699ceb43e5f6a4bbbc"
            ],
            "layout": "IPY_MODEL_62f8ec9bf30c47c1944421ffedc9df9e"
          }
        },
        "65118ebe223a4a21bf9f18b427bd2a80": {
          "model_module": "@jupyter-widgets/controls",
          "model_module_version": "1.5.0",
          "model_name": "FloatProgressModel",
          "state": {
            "_dom_classes": [],
            "_model_module": "@jupyter-widgets/controls",
            "_model_module_version": "1.5.0",
            "_model_name": "FloatProgressModel",
            "_view_count": null,
            "_view_module": "@jupyter-widgets/controls",
            "_view_module_version": "1.5.0",
            "_view_name": "ProgressView",
            "bar_style": "success",
            "description": "",
            "description_tooltip": null,
            "layout": "IPY_MODEL_f3e2ca594f8345d7b7960c5cc7a0343b",
            "max": 1713123,
            "min": 0,
            "orientation": "horizontal",
            "style": "IPY_MODEL_87165d74ed064bd0a1e2d402821a94c1",
            "value": 1713123
          }
        },
        "65295c02d1e148368a0581ba447f238a": {
          "model_module": "@jupyter-widgets/base",
          "model_module_version": "1.2.0",
          "model_name": "LayoutModel",
          "state": {
            "_model_module": "@jupyter-widgets/base",
            "_model_module_version": "1.2.0",
            "_model_name": "LayoutModel",
            "_view_count": null,
            "_view_module": "@jupyter-widgets/base",
            "_view_module_version": "1.2.0",
            "_view_name": "LayoutView",
            "align_content": null,
            "align_items": null,
            "align_self": null,
            "border": null,
            "bottom": null,
            "display": null,
            "flex": null,
            "flex_flow": null,
            "grid_area": null,
            "grid_auto_columns": null,
            "grid_auto_flow": null,
            "grid_auto_rows": null,
            "grid_column": null,
            "grid_gap": null,
            "grid_row": null,
            "grid_template_areas": null,
            "grid_template_columns": null,
            "grid_template_rows": null,
            "height": null,
            "justify_content": null,
            "justify_items": null,
            "left": null,
            "margin": null,
            "max_height": null,
            "max_width": null,
            "min_height": null,
            "min_width": null,
            "object_fit": null,
            "object_position": null,
            "order": null,
            "overflow": null,
            "overflow_x": null,
            "overflow_y": null,
            "padding": null,
            "right": null,
            "top": null,
            "visibility": null,
            "width": null
          }
        },
        "68bda931ff9346b5a71dae5ea5d05eb1": {
          "model_module": "@jupyter-widgets/base",
          "model_module_version": "1.2.0",
          "model_name": "LayoutModel",
          "state": {
            "_model_module": "@jupyter-widgets/base",
            "_model_module_version": "1.2.0",
            "_model_name": "LayoutModel",
            "_view_count": null,
            "_view_module": "@jupyter-widgets/base",
            "_view_module_version": "1.2.0",
            "_view_name": "LayoutView",
            "align_content": null,
            "align_items": null,
            "align_self": null,
            "border": null,
            "bottom": null,
            "display": null,
            "flex": null,
            "flex_flow": null,
            "grid_area": null,
            "grid_auto_columns": null,
            "grid_auto_flow": null,
            "grid_auto_rows": null,
            "grid_column": null,
            "grid_gap": null,
            "grid_row": null,
            "grid_template_areas": null,
            "grid_template_columns": null,
            "grid_template_rows": null,
            "height": null,
            "justify_content": null,
            "justify_items": null,
            "left": null,
            "margin": null,
            "max_height": null,
            "max_width": null,
            "min_height": null,
            "min_width": null,
            "object_fit": null,
            "object_position": null,
            "order": null,
            "overflow": null,
            "overflow_x": null,
            "overflow_y": null,
            "padding": null,
            "right": null,
            "top": null,
            "visibility": null,
            "width": null
          }
        },
        "6b86505debeb46778ea566c61bf55f38": {
          "model_module": "@jupyter-widgets/controls",
          "model_module_version": "1.5.0",
          "model_name": "DescriptionStyleModel",
          "state": {
            "_model_module": "@jupyter-widgets/controls",
            "_model_module_version": "1.5.0",
            "_model_name": "DescriptionStyleModel",
            "_view_count": null,
            "_view_module": "@jupyter-widgets/base",
            "_view_module_version": "1.2.0",
            "_view_name": "StyleView",
            "description_width": ""
          }
        },
        "715815e0f897468886b1ff9ccdf44d6e": {
          "model_module": "@jupyter-widgets/base",
          "model_module_version": "1.2.0",
          "model_name": "LayoutModel",
          "state": {
            "_model_module": "@jupyter-widgets/base",
            "_model_module_version": "1.2.0",
            "_model_name": "LayoutModel",
            "_view_count": null,
            "_view_module": "@jupyter-widgets/base",
            "_view_module_version": "1.2.0",
            "_view_name": "LayoutView",
            "align_content": null,
            "align_items": null,
            "align_self": null,
            "border": null,
            "bottom": null,
            "display": null,
            "flex": null,
            "flex_flow": null,
            "grid_area": null,
            "grid_auto_columns": null,
            "grid_auto_flow": null,
            "grid_auto_rows": null,
            "grid_column": null,
            "grid_gap": null,
            "grid_row": null,
            "grid_template_areas": null,
            "grid_template_columns": null,
            "grid_template_rows": null,
            "height": null,
            "justify_content": null,
            "justify_items": null,
            "left": null,
            "margin": null,
            "max_height": null,
            "max_width": null,
            "min_height": null,
            "min_width": null,
            "object_fit": null,
            "object_position": null,
            "order": null,
            "overflow": null,
            "overflow_x": null,
            "overflow_y": null,
            "padding": null,
            "right": null,
            "top": null,
            "visibility": null,
            "width": null
          }
        },
        "72480c4a06964d1882f4b100d6fb65f4": {
          "model_module": "@jupyter-widgets/controls",
          "model_module_version": "1.5.0",
          "model_name": "HBoxModel",
          "state": {
            "_dom_classes": [],
            "_model_module": "@jupyter-widgets/controls",
            "_model_module_version": "1.5.0",
            "_model_name": "HBoxModel",
            "_view_count": null,
            "_view_module": "@jupyter-widgets/controls",
            "_view_module_version": "1.5.0",
            "_view_name": "HBoxView",
            "box_style": "",
            "children": [
              "IPY_MODEL_8c26f671edcc4875a798ccd38c69febe",
              "IPY_MODEL_9dace69c527143cb8e8d5e004fd08e8d",
              "IPY_MODEL_27bd122b04e14864a623e9350364a010"
            ],
            "layout": "IPY_MODEL_f0212086b7a14954b62f535586daad4d"
          }
        },
        "73c80fbab970477bbc4ef462a77188ae": {
          "model_module": "@jupyter-widgets/controls",
          "model_module_version": "1.5.0",
          "model_name": "ProgressStyleModel",
          "state": {
            "_model_module": "@jupyter-widgets/controls",
            "_model_module_version": "1.5.0",
            "_model_name": "ProgressStyleModel",
            "_view_count": null,
            "_view_module": "@jupyter-widgets/base",
            "_view_module_version": "1.2.0",
            "_view_name": "StyleView",
            "bar_color": null,
            "description_width": ""
          }
        },
        "75ac2723f2304be4803a1fafb6a3e7f3": {
          "model_module": "@jupyter-widgets/controls",
          "model_module_version": "1.5.0",
          "model_name": "ProgressStyleModel",
          "state": {
            "_model_module": "@jupyter-widgets/controls",
            "_model_module_version": "1.5.0",
            "_model_name": "ProgressStyleModel",
            "_view_count": null,
            "_view_module": "@jupyter-widgets/base",
            "_view_module_version": "1.2.0",
            "_view_name": "StyleView",
            "bar_color": null,
            "description_width": ""
          }
        },
        "78798f7ca8a545a5a812688aad0a6d6e": {
          "model_module": "@jupyter-widgets/base",
          "model_module_version": "1.2.0",
          "model_name": "LayoutModel",
          "state": {
            "_model_module": "@jupyter-widgets/base",
            "_model_module_version": "1.2.0",
            "_model_name": "LayoutModel",
            "_view_count": null,
            "_view_module": "@jupyter-widgets/base",
            "_view_module_version": "1.2.0",
            "_view_name": "LayoutView",
            "align_content": null,
            "align_items": null,
            "align_self": null,
            "border": null,
            "bottom": null,
            "display": null,
            "flex": null,
            "flex_flow": null,
            "grid_area": null,
            "grid_auto_columns": null,
            "grid_auto_flow": null,
            "grid_auto_rows": null,
            "grid_column": null,
            "grid_gap": null,
            "grid_row": null,
            "grid_template_areas": null,
            "grid_template_columns": null,
            "grid_template_rows": null,
            "height": null,
            "justify_content": null,
            "justify_items": null,
            "left": null,
            "margin": null,
            "max_height": null,
            "max_width": null,
            "min_height": null,
            "min_width": null,
            "object_fit": null,
            "object_position": null,
            "order": null,
            "overflow": null,
            "overflow_x": null,
            "overflow_y": null,
            "padding": null,
            "right": null,
            "top": null,
            "visibility": null,
            "width": null
          }
        },
        "78c8525af1164c80a89768a92ac6b684": {
          "model_module": "@jupyter-widgets/base",
          "model_module_version": "1.2.0",
          "model_name": "LayoutModel",
          "state": {
            "_model_module": "@jupyter-widgets/base",
            "_model_module_version": "1.2.0",
            "_model_name": "LayoutModel",
            "_view_count": null,
            "_view_module": "@jupyter-widgets/base",
            "_view_module_version": "1.2.0",
            "_view_name": "LayoutView",
            "align_content": null,
            "align_items": null,
            "align_self": null,
            "border": null,
            "bottom": null,
            "display": null,
            "flex": null,
            "flex_flow": null,
            "grid_area": null,
            "grid_auto_columns": null,
            "grid_auto_flow": null,
            "grid_auto_rows": null,
            "grid_column": null,
            "grid_gap": null,
            "grid_row": null,
            "grid_template_areas": null,
            "grid_template_columns": null,
            "grid_template_rows": null,
            "height": null,
            "justify_content": null,
            "justify_items": null,
            "left": null,
            "margin": null,
            "max_height": null,
            "max_width": null,
            "min_height": null,
            "min_width": null,
            "object_fit": null,
            "object_position": null,
            "order": null,
            "overflow": null,
            "overflow_x": null,
            "overflow_y": null,
            "padding": null,
            "right": null,
            "top": null,
            "visibility": null,
            "width": null
          }
        },
        "7c3372b2a44a4dbdac454837b7545058": {
          "model_module": "@jupyter-widgets/base",
          "model_module_version": "1.2.0",
          "model_name": "LayoutModel",
          "state": {
            "_model_module": "@jupyter-widgets/base",
            "_model_module_version": "1.2.0",
            "_model_name": "LayoutModel",
            "_view_count": null,
            "_view_module": "@jupyter-widgets/base",
            "_view_module_version": "1.2.0",
            "_view_name": "LayoutView",
            "align_content": null,
            "align_items": null,
            "align_self": null,
            "border": null,
            "bottom": null,
            "display": null,
            "flex": null,
            "flex_flow": null,
            "grid_area": null,
            "grid_auto_columns": null,
            "grid_auto_flow": null,
            "grid_auto_rows": null,
            "grid_column": null,
            "grid_gap": null,
            "grid_row": null,
            "grid_template_areas": null,
            "grid_template_columns": null,
            "grid_template_rows": null,
            "height": null,
            "justify_content": null,
            "justify_items": null,
            "left": null,
            "margin": null,
            "max_height": null,
            "max_width": null,
            "min_height": null,
            "min_width": null,
            "object_fit": null,
            "object_position": null,
            "order": null,
            "overflow": null,
            "overflow_x": null,
            "overflow_y": null,
            "padding": null,
            "right": null,
            "top": null,
            "visibility": null,
            "width": null
          }
        },
        "851b34f41573488185dabf49ad67ac2a": {
          "model_module": "@jupyter-widgets/controls",
          "model_module_version": "1.5.0",
          "model_name": "DescriptionStyleModel",
          "state": {
            "_model_module": "@jupyter-widgets/controls",
            "_model_module_version": "1.5.0",
            "_model_name": "DescriptionStyleModel",
            "_view_count": null,
            "_view_module": "@jupyter-widgets/base",
            "_view_module_version": "1.2.0",
            "_view_name": "StyleView",
            "description_width": ""
          }
        },
        "859432f2b8214a25a96e7f8ccf9225eb": {
          "model_module": "@jupyter-widgets/controls",
          "model_module_version": "1.5.0",
          "model_name": "ProgressStyleModel",
          "state": {
            "_model_module": "@jupyter-widgets/controls",
            "_model_module_version": "1.5.0",
            "_model_name": "ProgressStyleModel",
            "_view_count": null,
            "_view_module": "@jupyter-widgets/base",
            "_view_module_version": "1.2.0",
            "_view_name": "StyleView",
            "bar_color": null,
            "description_width": ""
          }
        },
        "87165d74ed064bd0a1e2d402821a94c1": {
          "model_module": "@jupyter-widgets/controls",
          "model_module_version": "1.5.0",
          "model_name": "ProgressStyleModel",
          "state": {
            "_model_module": "@jupyter-widgets/controls",
            "_model_module_version": "1.5.0",
            "_model_name": "ProgressStyleModel",
            "_view_count": null,
            "_view_module": "@jupyter-widgets/base",
            "_view_module_version": "1.2.0",
            "_view_name": "StyleView",
            "bar_color": null,
            "description_width": ""
          }
        },
        "8b4cc2451c6a4d17bfc6f3d0f3c326f8": {
          "model_module": "@jupyter-widgets/base",
          "model_module_version": "1.2.0",
          "model_name": "LayoutModel",
          "state": {
            "_model_module": "@jupyter-widgets/base",
            "_model_module_version": "1.2.0",
            "_model_name": "LayoutModel",
            "_view_count": null,
            "_view_module": "@jupyter-widgets/base",
            "_view_module_version": "1.2.0",
            "_view_name": "LayoutView",
            "align_content": null,
            "align_items": null,
            "align_self": null,
            "border": null,
            "bottom": null,
            "display": null,
            "flex": null,
            "flex_flow": null,
            "grid_area": null,
            "grid_auto_columns": null,
            "grid_auto_flow": null,
            "grid_auto_rows": null,
            "grid_column": null,
            "grid_gap": null,
            "grid_row": null,
            "grid_template_areas": null,
            "grid_template_columns": null,
            "grid_template_rows": null,
            "height": null,
            "justify_content": null,
            "justify_items": null,
            "left": null,
            "margin": null,
            "max_height": null,
            "max_width": null,
            "min_height": null,
            "min_width": null,
            "object_fit": null,
            "object_position": null,
            "order": null,
            "overflow": null,
            "overflow_x": null,
            "overflow_y": null,
            "padding": null,
            "right": null,
            "top": null,
            "visibility": null,
            "width": null
          }
        },
        "8c26f671edcc4875a798ccd38c69febe": {
          "model_module": "@jupyter-widgets/controls",
          "model_module_version": "1.5.0",
          "model_name": "HTMLModel",
          "state": {
            "_dom_classes": [],
            "_model_module": "@jupyter-widgets/controls",
            "_model_module_version": "1.5.0",
            "_model_name": "HTMLModel",
            "_view_count": null,
            "_view_module": "@jupyter-widgets/controls",
            "_view_module_version": "1.5.0",
            "_view_name": "HTMLView",
            "description": "",
            "description_tooltip": null,
            "layout": "IPY_MODEL_490ae6b7fc9e482296066f60c5f943d5",
            "placeholder": "​",
            "style": "IPY_MODEL_fe0c9ec94b114bfc855de2f78ace6274",
            "value": "Downloading: 100%"
          }
        },
        "8f8f47f3eabc43ab9d3d85eb5526a5f5": {
          "model_module": "@jupyter-widgets/base",
          "model_module_version": "1.2.0",
          "model_name": "LayoutModel",
          "state": {
            "_model_module": "@jupyter-widgets/base",
            "_model_module_version": "1.2.0",
            "_model_name": "LayoutModel",
            "_view_count": null,
            "_view_module": "@jupyter-widgets/base",
            "_view_module_version": "1.2.0",
            "_view_name": "LayoutView",
            "align_content": null,
            "align_items": null,
            "align_self": null,
            "border": null,
            "bottom": null,
            "display": null,
            "flex": null,
            "flex_flow": null,
            "grid_area": null,
            "grid_auto_columns": null,
            "grid_auto_flow": null,
            "grid_auto_rows": null,
            "grid_column": null,
            "grid_gap": null,
            "grid_row": null,
            "grid_template_areas": null,
            "grid_template_columns": null,
            "grid_template_rows": null,
            "height": null,
            "justify_content": null,
            "justify_items": null,
            "left": null,
            "margin": null,
            "max_height": null,
            "max_width": null,
            "min_height": null,
            "min_width": null,
            "object_fit": null,
            "object_position": null,
            "order": null,
            "overflow": null,
            "overflow_x": null,
            "overflow_y": null,
            "padding": null,
            "right": null,
            "top": null,
            "visibility": null,
            "width": null
          }
        },
        "96d4ecfdf59049f7bf8483d376ab81e4": {
          "model_module": "@jupyter-widgets/base",
          "model_module_version": "1.2.0",
          "model_name": "LayoutModel",
          "state": {
            "_model_module": "@jupyter-widgets/base",
            "_model_module_version": "1.2.0",
            "_model_name": "LayoutModel",
            "_view_count": null,
            "_view_module": "@jupyter-widgets/base",
            "_view_module_version": "1.2.0",
            "_view_name": "LayoutView",
            "align_content": null,
            "align_items": null,
            "align_self": null,
            "border": null,
            "bottom": null,
            "display": null,
            "flex": null,
            "flex_flow": null,
            "grid_area": null,
            "grid_auto_columns": null,
            "grid_auto_flow": null,
            "grid_auto_rows": null,
            "grid_column": null,
            "grid_gap": null,
            "grid_row": null,
            "grid_template_areas": null,
            "grid_template_columns": null,
            "grid_template_rows": null,
            "height": null,
            "justify_content": null,
            "justify_items": null,
            "left": null,
            "margin": null,
            "max_height": null,
            "max_width": null,
            "min_height": null,
            "min_width": null,
            "object_fit": null,
            "object_position": null,
            "order": null,
            "overflow": null,
            "overflow_x": null,
            "overflow_y": null,
            "padding": null,
            "right": null,
            "top": null,
            "visibility": null,
            "width": null
          }
        },
        "98889590496f4b1c8f98fb606d2cd91c": {
          "model_module": "@jupyter-widgets/controls",
          "model_module_version": "1.5.0",
          "model_name": "DescriptionStyleModel",
          "state": {
            "_model_module": "@jupyter-widgets/controls",
            "_model_module_version": "1.5.0",
            "_model_name": "DescriptionStyleModel",
            "_view_count": null,
            "_view_module": "@jupyter-widgets/base",
            "_view_module_version": "1.2.0",
            "_view_name": "StyleView",
            "description_width": ""
          }
        },
        "9d47b7f26ebc42dfbdc2c07c7a3e64fe": {
          "model_module": "@jupyter-widgets/controls",
          "model_module_version": "1.5.0",
          "model_name": "HTMLModel",
          "state": {
            "_dom_classes": [],
            "_model_module": "@jupyter-widgets/controls",
            "_model_module_version": "1.5.0",
            "_model_name": "HTMLModel",
            "_view_count": null,
            "_view_module": "@jupyter-widgets/controls",
            "_view_module_version": "1.5.0",
            "_view_name": "HTMLView",
            "description": "",
            "description_tooltip": null,
            "layout": "IPY_MODEL_d32ccf40116049a3838922f79ac980dc",
            "placeholder": "​",
            "style": "IPY_MODEL_c74643551c5b446cb9964b68651c2acd",
            "value": "Downloading: 100%"
          }
        },
        "9dace69c527143cb8e8d5e004fd08e8d": {
          "model_module": "@jupyter-widgets/controls",
          "model_module_version": "1.5.0",
          "model_name": "FloatProgressModel",
          "state": {
            "_dom_classes": [],
            "_model_module": "@jupyter-widgets/controls",
            "_model_module_version": "1.5.0",
            "_model_name": "FloatProgressModel",
            "_view_count": null,
            "_view_module": "@jupyter-widgets/controls",
            "_view_module_version": "1.5.0",
            "_view_name": "ProgressView",
            "bar_style": "success",
            "description": "",
            "description_tooltip": null,
            "layout": "IPY_MODEL_5bd23d7f2be04795810c9cb46e026340",
            "max": 609,
            "min": 0,
            "orientation": "horizontal",
            "style": "IPY_MODEL_071b11bfa75e43bca6464a14f92ae467",
            "value": 609
          }
        },
        "9f5ceb78edd54cdebd1c973e09bd41b2": {
          "model_module": "@jupyter-widgets/controls",
          "model_module_version": "1.5.0",
          "model_name": "DescriptionStyleModel",
          "state": {
            "_model_module": "@jupyter-widgets/controls",
            "_model_module_version": "1.5.0",
            "_model_name": "DescriptionStyleModel",
            "_view_count": null,
            "_view_module": "@jupyter-widgets/base",
            "_view_module_version": "1.2.0",
            "_view_name": "StyleView",
            "description_width": ""
          }
        },
        "a0cd7603b04048c69ea2ce701a4c46d7": {
          "model_module": "@jupyter-widgets/controls",
          "model_module_version": "1.5.0",
          "model_name": "HTMLModel",
          "state": {
            "_dom_classes": [],
            "_model_module": "@jupyter-widgets/controls",
            "_model_module_version": "1.5.0",
            "_model_name": "HTMLModel",
            "_view_count": null,
            "_view_module": "@jupyter-widgets/controls",
            "_view_module_version": "1.5.0",
            "_view_name": "HTMLView",
            "description": "",
            "description_tooltip": null,
            "layout": "IPY_MODEL_061bf0b217064c8a8891610aaf241b26",
            "placeholder": "​",
            "style": "IPY_MODEL_b071b2693b444ba6a6b467d50a83886e",
            "value": "Downloading: 100%"
          }
        },
        "a239ed0fae664ab981ef6082a5af37cc": {
          "model_module": "@jupyter-widgets/base",
          "model_module_version": "1.2.0",
          "model_name": "LayoutModel",
          "state": {
            "_model_module": "@jupyter-widgets/base",
            "_model_module_version": "1.2.0",
            "_model_name": "LayoutModel",
            "_view_count": null,
            "_view_module": "@jupyter-widgets/base",
            "_view_module_version": "1.2.0",
            "_view_name": "LayoutView",
            "align_content": null,
            "align_items": null,
            "align_self": null,
            "border": null,
            "bottom": null,
            "display": null,
            "flex": null,
            "flex_flow": null,
            "grid_area": null,
            "grid_auto_columns": null,
            "grid_auto_flow": null,
            "grid_auto_rows": null,
            "grid_column": null,
            "grid_gap": null,
            "grid_row": null,
            "grid_template_areas": null,
            "grid_template_columns": null,
            "grid_template_rows": null,
            "height": null,
            "justify_content": null,
            "justify_items": null,
            "left": null,
            "margin": null,
            "max_height": null,
            "max_width": null,
            "min_height": null,
            "min_width": null,
            "object_fit": null,
            "object_position": null,
            "order": null,
            "overflow": null,
            "overflow_x": null,
            "overflow_y": null,
            "padding": null,
            "right": null,
            "top": null,
            "visibility": null,
            "width": null
          }
        },
        "a42dae9c030a4635b6447053ab4a6bb3": {
          "model_module": "@jupyter-widgets/controls",
          "model_module_version": "1.5.0",
          "model_name": "HTMLModel",
          "state": {
            "_dom_classes": [],
            "_model_module": "@jupyter-widgets/controls",
            "_model_module_version": "1.5.0",
            "_model_name": "HTMLModel",
            "_view_count": null,
            "_view_module": "@jupyter-widgets/controls",
            "_view_module_version": "1.5.0",
            "_view_name": "HTMLView",
            "description": "",
            "description_tooltip": null,
            "layout": "IPY_MODEL_3a9205ea15034361a9dd7080fb04f783",
            "placeholder": "​",
            "style": "IPY_MODEL_ef09f208328a4763a06657fffbfa1a12",
            "value": " 1.27M/1.27M [00:00&lt;00:00, 1.77MB/s]"
          }
        },
        "a476a01a39d947e4a4aed3097043a0bc": {
          "model_module": "@jupyter-widgets/controls",
          "model_module_version": "1.5.0",
          "model_name": "HBoxModel",
          "state": {
            "_dom_classes": [],
            "_model_module": "@jupyter-widgets/controls",
            "_model_module_version": "1.5.0",
            "_model_name": "HBoxModel",
            "_view_count": null,
            "_view_module": "@jupyter-widgets/controls",
            "_view_module_version": "1.5.0",
            "_view_name": "HBoxView",
            "box_style": "",
            "children": [
              "IPY_MODEL_a0cd7603b04048c69ea2ce701a4c46d7",
              "IPY_MODEL_251175411a314f419d571fd5e6244c97",
              "IPY_MODEL_d2cc0fc4d07a43a2971f70892dcda992"
            ],
            "layout": "IPY_MODEL_e8adf66c47f846c89b58123216b51386"
          }
        },
        "a5d08177b34146d9af06a8d302cef334": {
          "model_module": "@jupyter-widgets/controls",
          "model_module_version": "1.5.0",
          "model_name": "DescriptionStyleModel",
          "state": {
            "_model_module": "@jupyter-widgets/controls",
            "_model_module_version": "1.5.0",
            "_model_name": "DescriptionStyleModel",
            "_view_count": null,
            "_view_module": "@jupyter-widgets/base",
            "_view_module_version": "1.2.0",
            "_view_name": "StyleView",
            "description_width": ""
          }
        },
        "acf938e34a5b4a67a5496b3e1afc7a6f": {
          "model_module": "@jupyter-widgets/controls",
          "model_module_version": "1.5.0",
          "model_name": "DescriptionStyleModel",
          "state": {
            "_model_module": "@jupyter-widgets/controls",
            "_model_module_version": "1.5.0",
            "_model_name": "DescriptionStyleModel",
            "_view_count": null,
            "_view_module": "@jupyter-widgets/base",
            "_view_module_version": "1.2.0",
            "_view_name": "StyleView",
            "description_width": ""
          }
        },
        "adae1c2cf4fb4d3baa88c141c75c5f0f": {
          "model_module": "@jupyter-widgets/controls",
          "model_module_version": "1.5.0",
          "model_name": "HTMLModel",
          "state": {
            "_dom_classes": [],
            "_model_module": "@jupyter-widgets/controls",
            "_model_module_version": "1.5.0",
            "_model_name": "HTMLModel",
            "_view_count": null,
            "_view_module": "@jupyter-widgets/controls",
            "_view_module_version": "1.5.0",
            "_view_name": "HTMLView",
            "description": "",
            "description_tooltip": null,
            "layout": "IPY_MODEL_d0087490c7ba4dfcbd2c7fb3312552aa",
            "placeholder": "​",
            "style": "IPY_MODEL_bf027583d2504e45a703d32d460d3723",
            "value": "Downloading: 100%"
          }
        },
        "b071b2693b444ba6a6b467d50a83886e": {
          "model_module": "@jupyter-widgets/controls",
          "model_module_version": "1.5.0",
          "model_name": "DescriptionStyleModel",
          "state": {
            "_model_module": "@jupyter-widgets/controls",
            "_model_module_version": "1.5.0",
            "_model_name": "DescriptionStyleModel",
            "_view_count": null,
            "_view_module": "@jupyter-widgets/base",
            "_view_module_version": "1.2.0",
            "_view_name": "StyleView",
            "description_width": ""
          }
        },
        "b9d68baebb0c4e3cb142b34bada1c026": {
          "model_module": "@jupyter-widgets/base",
          "model_module_version": "1.2.0",
          "model_name": "LayoutModel",
          "state": {
            "_model_module": "@jupyter-widgets/base",
            "_model_module_version": "1.2.0",
            "_model_name": "LayoutModel",
            "_view_count": null,
            "_view_module": "@jupyter-widgets/base",
            "_view_module_version": "1.2.0",
            "_view_name": "LayoutView",
            "align_content": null,
            "align_items": null,
            "align_self": null,
            "border": null,
            "bottom": null,
            "display": null,
            "flex": null,
            "flex_flow": null,
            "grid_area": null,
            "grid_auto_columns": null,
            "grid_auto_flow": null,
            "grid_auto_rows": null,
            "grid_column": null,
            "grid_gap": null,
            "grid_row": null,
            "grid_template_areas": null,
            "grid_template_columns": null,
            "grid_template_rows": null,
            "height": null,
            "justify_content": null,
            "justify_items": null,
            "left": null,
            "margin": null,
            "max_height": null,
            "max_width": null,
            "min_height": null,
            "min_width": null,
            "object_fit": null,
            "object_position": null,
            "order": null,
            "overflow": null,
            "overflow_x": null,
            "overflow_y": null,
            "padding": null,
            "right": null,
            "top": null,
            "visibility": null,
            "width": null
          }
        },
        "bf027583d2504e45a703d32d460d3723": {
          "model_module": "@jupyter-widgets/controls",
          "model_module_version": "1.5.0",
          "model_name": "DescriptionStyleModel",
          "state": {
            "_model_module": "@jupyter-widgets/controls",
            "_model_module_version": "1.5.0",
            "_model_name": "DescriptionStyleModel",
            "_view_count": null,
            "_view_module": "@jupyter-widgets/base",
            "_view_module_version": "1.2.0",
            "_view_name": "StyleView",
            "description_width": ""
          }
        },
        "bfdc7eb94a634d0194318cacb0f25524": {
          "model_module": "@jupyter-widgets/controls",
          "model_module_version": "1.5.0",
          "model_name": "HTMLModel",
          "state": {
            "_dom_classes": [],
            "_model_module": "@jupyter-widgets/controls",
            "_model_module_version": "1.5.0",
            "_model_name": "HTMLModel",
            "_view_count": null,
            "_view_module": "@jupyter-widgets/controls",
            "_view_module_version": "1.5.0",
            "_view_name": "HTMLView",
            "description": "",
            "description_tooltip": null,
            "layout": "IPY_MODEL_1580c3fe26b945838b57a8cd95f29517",
            "placeholder": "​",
            "style": "IPY_MODEL_c9ad9a91d0b24d7086a4cbf2f7058e7c",
            "value": "Downloading: 100%"
          }
        },
        "c66d670e683d4b27b1ee1a76dbed80b6": {
          "model_module": "@jupyter-widgets/controls",
          "model_module_version": "1.5.0",
          "model_name": "HTMLModel",
          "state": {
            "_dom_classes": [],
            "_model_module": "@jupyter-widgets/controls",
            "_model_module_version": "1.5.0",
            "_model_name": "HTMLModel",
            "_view_count": null,
            "_view_module": "@jupyter-widgets/controls",
            "_view_module_version": "1.5.0",
            "_view_name": "HTMLView",
            "description": "",
            "description_tooltip": null,
            "layout": "IPY_MODEL_65295c02d1e148368a0581ba447f238a",
            "placeholder": "​",
            "style": "IPY_MODEL_a5d08177b34146d9af06a8d302cef334",
            "value": " 551M/551M [00:19&lt;00:00, 29.3MB/s]"
          }
        },
        "c74643551c5b446cb9964b68651c2acd": {
          "model_module": "@jupyter-widgets/controls",
          "model_module_version": "1.5.0",
          "model_name": "DescriptionStyleModel",
          "state": {
            "_model_module": "@jupyter-widgets/controls",
            "_model_module_version": "1.5.0",
            "_model_name": "DescriptionStyleModel",
            "_view_count": null,
            "_view_module": "@jupyter-widgets/base",
            "_view_module_version": "1.2.0",
            "_view_name": "StyleView",
            "description_width": ""
          }
        },
        "c8dfa633851d4c10a5d77dcdcfa18de2": {
          "model_module": "@jupyter-widgets/controls",
          "model_module_version": "1.5.0",
          "model_name": "FloatProgressModel",
          "state": {
            "_dom_classes": [],
            "_model_module": "@jupyter-widgets/controls",
            "_model_module_version": "1.5.0",
            "_model_name": "FloatProgressModel",
            "_view_count": null,
            "_view_module": "@jupyter-widgets/controls",
            "_view_module_version": "1.5.0",
            "_view_name": "ProgressView",
            "bar_style": "",
            "description": "",
            "description_tooltip": null,
            "layout": "IPY_MODEL_68bda931ff9346b5a71dae5ea5d05eb1",
            "max": 3141928084,
            "min": 0,
            "orientation": "horizontal",
            "style": "IPY_MODEL_73c80fbab970477bbc4ef462a77188ae",
            "value": 338548736
          }
        },
        "c9546b0039db4ee1a199599e59469d3f": {
          "model_module": "@jupyter-widgets/controls",
          "model_module_version": "1.5.0",
          "model_name": "FloatProgressModel",
          "state": {
            "_dom_classes": [],
            "_model_module": "@jupyter-widgets/controls",
            "_model_module_version": "1.5.0",
            "_model_name": "FloatProgressModel",
            "_view_count": null,
            "_view_module": "@jupyter-widgets/controls",
            "_view_module_version": "1.5.0",
            "_view_name": "ProgressView",
            "bar_style": "success",
            "description": "",
            "description_tooltip": null,
            "layout": "IPY_MODEL_7c3372b2a44a4dbdac454837b7545058",
            "max": 551290714,
            "min": 0,
            "orientation": "horizontal",
            "style": "IPY_MODEL_859432f2b8214a25a96e7f8ccf9225eb",
            "value": 551290714
          }
        },
        "c9ad9a91d0b24d7086a4cbf2f7058e7c": {
          "model_module": "@jupyter-widgets/controls",
          "model_module_version": "1.5.0",
          "model_name": "DescriptionStyleModel",
          "state": {
            "_model_module": "@jupyter-widgets/controls",
            "_model_module_version": "1.5.0",
            "_model_name": "DescriptionStyleModel",
            "_view_count": null,
            "_view_module": "@jupyter-widgets/base",
            "_view_module_version": "1.2.0",
            "_view_name": "StyleView",
            "description_width": ""
          }
        },
        "d0087490c7ba4dfcbd2c7fb3312552aa": {
          "model_module": "@jupyter-widgets/base",
          "model_module_version": "1.2.0",
          "model_name": "LayoutModel",
          "state": {
            "_model_module": "@jupyter-widgets/base",
            "_model_module_version": "1.2.0",
            "_model_name": "LayoutModel",
            "_view_count": null,
            "_view_module": "@jupyter-widgets/base",
            "_view_module_version": "1.2.0",
            "_view_name": "LayoutView",
            "align_content": null,
            "align_items": null,
            "align_self": null,
            "border": null,
            "bottom": null,
            "display": null,
            "flex": null,
            "flex_flow": null,
            "grid_area": null,
            "grid_auto_columns": null,
            "grid_auto_flow": null,
            "grid_auto_rows": null,
            "grid_column": null,
            "grid_gap": null,
            "grid_row": null,
            "grid_template_areas": null,
            "grid_template_columns": null,
            "grid_template_rows": null,
            "height": null,
            "justify_content": null,
            "justify_items": null,
            "left": null,
            "margin": null,
            "max_height": null,
            "max_width": null,
            "min_height": null,
            "min_width": null,
            "object_fit": null,
            "object_position": null,
            "order": null,
            "overflow": null,
            "overflow_x": null,
            "overflow_y": null,
            "padding": null,
            "right": null,
            "top": null,
            "visibility": null,
            "width": null
          }
        },
        "d1b50d3f8a6447f9bfbd6b637ede85dd": {
          "model_module": "@jupyter-widgets/controls",
          "model_module_version": "1.5.0",
          "model_name": "DescriptionStyleModel",
          "state": {
            "_model_module": "@jupyter-widgets/controls",
            "_model_module_version": "1.5.0",
            "_model_name": "DescriptionStyleModel",
            "_view_count": null,
            "_view_module": "@jupyter-widgets/base",
            "_view_module_version": "1.2.0",
            "_view_name": "StyleView",
            "description_width": ""
          }
        },
        "d2cc0fc4d07a43a2971f70892dcda992": {
          "model_module": "@jupyter-widgets/controls",
          "model_module_version": "1.5.0",
          "model_name": "HTMLModel",
          "state": {
            "_dom_classes": [],
            "_model_module": "@jupyter-widgets/controls",
            "_model_module_version": "1.5.0",
            "_model_name": "HTMLModel",
            "_view_count": null,
            "_view_module": "@jupyter-widgets/controls",
            "_view_module_version": "1.5.0",
            "_view_name": "HTMLView",
            "description": "",
            "description_tooltip": null,
            "layout": "IPY_MODEL_481daac4c5064b508bc67a744f6e48bf",
            "placeholder": "​",
            "style": "IPY_MODEL_acf938e34a5b4a67a5496b3e1afc7a6f",
            "value": " 1.71M/1.71M [00:00&lt;00:00, 1.84MB/s]"
          }
        },
        "d32ccf40116049a3838922f79ac980dc": {
          "model_module": "@jupyter-widgets/base",
          "model_module_version": "1.2.0",
          "model_name": "LayoutModel",
          "state": {
            "_model_module": "@jupyter-widgets/base",
            "_model_module_version": "1.2.0",
            "_model_name": "LayoutModel",
            "_view_count": null,
            "_view_module": "@jupyter-widgets/base",
            "_view_module_version": "1.2.0",
            "_view_name": "LayoutView",
            "align_content": null,
            "align_items": null,
            "align_self": null,
            "border": null,
            "bottom": null,
            "display": null,
            "flex": null,
            "flex_flow": null,
            "grid_area": null,
            "grid_auto_columns": null,
            "grid_auto_flow": null,
            "grid_auto_rows": null,
            "grid_column": null,
            "grid_gap": null,
            "grid_row": null,
            "grid_template_areas": null,
            "grid_template_columns": null,
            "grid_template_rows": null,
            "height": null,
            "justify_content": null,
            "justify_items": null,
            "left": null,
            "margin": null,
            "max_height": null,
            "max_width": null,
            "min_height": null,
            "min_width": null,
            "object_fit": null,
            "object_position": null,
            "order": null,
            "overflow": null,
            "overflow_x": null,
            "overflow_y": null,
            "padding": null,
            "right": null,
            "top": null,
            "visibility": null,
            "width": null
          }
        },
        "d6c828d68cae40bea12f45be4a1f01f1": {
          "model_module": "@jupyter-widgets/controls",
          "model_module_version": "1.5.0",
          "model_name": "ProgressStyleModel",
          "state": {
            "_model_module": "@jupyter-widgets/controls",
            "_model_module_version": "1.5.0",
            "_model_name": "ProgressStyleModel",
            "_view_count": null,
            "_view_module": "@jupyter-widgets/base",
            "_view_module_version": "1.2.0",
            "_view_name": "StyleView",
            "bar_color": null,
            "description_width": ""
          }
        },
        "e8adf66c47f846c89b58123216b51386": {
          "model_module": "@jupyter-widgets/base",
          "model_module_version": "1.2.0",
          "model_name": "LayoutModel",
          "state": {
            "_model_module": "@jupyter-widgets/base",
            "_model_module_version": "1.2.0",
            "_model_name": "LayoutModel",
            "_view_count": null,
            "_view_module": "@jupyter-widgets/base",
            "_view_module_version": "1.2.0",
            "_view_name": "LayoutView",
            "align_content": null,
            "align_items": null,
            "align_self": null,
            "border": null,
            "bottom": null,
            "display": null,
            "flex": null,
            "flex_flow": null,
            "grid_area": null,
            "grid_auto_columns": null,
            "grid_auto_flow": null,
            "grid_auto_rows": null,
            "grid_column": null,
            "grid_gap": null,
            "grid_row": null,
            "grid_template_areas": null,
            "grid_template_columns": null,
            "grid_template_rows": null,
            "height": null,
            "justify_content": null,
            "justify_items": null,
            "left": null,
            "margin": null,
            "max_height": null,
            "max_width": null,
            "min_height": null,
            "min_width": null,
            "object_fit": null,
            "object_position": null,
            "order": null,
            "overflow": null,
            "overflow_x": null,
            "overflow_y": null,
            "padding": null,
            "right": null,
            "top": null,
            "visibility": null,
            "width": null
          }
        },
        "e94c98bead1d4ee391fb82519828dd5c": {
          "model_module": "@jupyter-widgets/base",
          "model_module_version": "1.2.0",
          "model_name": "LayoutModel",
          "state": {
            "_model_module": "@jupyter-widgets/base",
            "_model_module_version": "1.2.0",
            "_model_name": "LayoutModel",
            "_view_count": null,
            "_view_module": "@jupyter-widgets/base",
            "_view_module_version": "1.2.0",
            "_view_name": "LayoutView",
            "align_content": null,
            "align_items": null,
            "align_self": null,
            "border": null,
            "bottom": null,
            "display": null,
            "flex": null,
            "flex_flow": null,
            "grid_area": null,
            "grid_auto_columns": null,
            "grid_auto_flow": null,
            "grid_auto_rows": null,
            "grid_column": null,
            "grid_gap": null,
            "grid_row": null,
            "grid_template_areas": null,
            "grid_template_columns": null,
            "grid_template_rows": null,
            "height": null,
            "justify_content": null,
            "justify_items": null,
            "left": null,
            "margin": null,
            "max_height": null,
            "max_width": null,
            "min_height": null,
            "min_width": null,
            "object_fit": null,
            "object_position": null,
            "order": null,
            "overflow": null,
            "overflow_x": null,
            "overflow_y": null,
            "padding": null,
            "right": null,
            "top": null,
            "visibility": null,
            "width": null
          }
        },
        "ef09f208328a4763a06657fffbfa1a12": {
          "model_module": "@jupyter-widgets/controls",
          "model_module_version": "1.5.0",
          "model_name": "DescriptionStyleModel",
          "state": {
            "_model_module": "@jupyter-widgets/controls",
            "_model_module_version": "1.5.0",
            "_model_name": "DescriptionStyleModel",
            "_view_count": null,
            "_view_module": "@jupyter-widgets/base",
            "_view_module_version": "1.2.0",
            "_view_name": "StyleView",
            "description_width": ""
          }
        },
        "f0212086b7a14954b62f535586daad4d": {
          "model_module": "@jupyter-widgets/base",
          "model_module_version": "1.2.0",
          "model_name": "LayoutModel",
          "state": {
            "_model_module": "@jupyter-widgets/base",
            "_model_module_version": "1.2.0",
            "_model_name": "LayoutModel",
            "_view_count": null,
            "_view_module": "@jupyter-widgets/base",
            "_view_module_version": "1.2.0",
            "_view_name": "LayoutView",
            "align_content": null,
            "align_items": null,
            "align_self": null,
            "border": null,
            "bottom": null,
            "display": null,
            "flex": null,
            "flex_flow": null,
            "grid_area": null,
            "grid_auto_columns": null,
            "grid_auto_flow": null,
            "grid_auto_rows": null,
            "grid_column": null,
            "grid_gap": null,
            "grid_row": null,
            "grid_template_areas": null,
            "grid_template_columns": null,
            "grid_template_rows": null,
            "height": null,
            "justify_content": null,
            "justify_items": null,
            "left": null,
            "margin": null,
            "max_height": null,
            "max_width": null,
            "min_height": null,
            "min_width": null,
            "object_fit": null,
            "object_position": null,
            "order": null,
            "overflow": null,
            "overflow_x": null,
            "overflow_y": null,
            "padding": null,
            "right": null,
            "top": null,
            "visibility": null,
            "width": null
          }
        },
        "f3e2ca594f8345d7b7960c5cc7a0343b": {
          "model_module": "@jupyter-widgets/base",
          "model_module_version": "1.2.0",
          "model_name": "LayoutModel",
          "state": {
            "_model_module": "@jupyter-widgets/base",
            "_model_module_version": "1.2.0",
            "_model_name": "LayoutModel",
            "_view_count": null,
            "_view_module": "@jupyter-widgets/base",
            "_view_module_version": "1.2.0",
            "_view_name": "LayoutView",
            "align_content": null,
            "align_items": null,
            "align_self": null,
            "border": null,
            "bottom": null,
            "display": null,
            "flex": null,
            "flex_flow": null,
            "grid_area": null,
            "grid_auto_columns": null,
            "grid_auto_flow": null,
            "grid_auto_rows": null,
            "grid_column": null,
            "grid_gap": null,
            "grid_row": null,
            "grid_template_areas": null,
            "grid_template_columns": null,
            "grid_template_rows": null,
            "height": null,
            "justify_content": null,
            "justify_items": null,
            "left": null,
            "margin": null,
            "max_height": null,
            "max_width": null,
            "min_height": null,
            "min_width": null,
            "object_fit": null,
            "object_position": null,
            "order": null,
            "overflow": null,
            "overflow_x": null,
            "overflow_y": null,
            "padding": null,
            "right": null,
            "top": null,
            "visibility": null,
            "width": null
          }
        },
        "f718225071f542088af1eb40bfd4c692": {
          "model_module": "@jupyter-widgets/controls",
          "model_module_version": "1.5.0",
          "model_name": "HBoxModel",
          "state": {
            "_dom_classes": [],
            "_model_module": "@jupyter-widgets/controls",
            "_model_module_version": "1.5.0",
            "_model_name": "HBoxModel",
            "_view_count": null,
            "_view_module": "@jupyter-widgets/controls",
            "_view_module_version": "1.5.0",
            "_view_name": "HBoxView",
            "box_style": "",
            "children": [
              "IPY_MODEL_bfdc7eb94a634d0194318cacb0f25524",
              "IPY_MODEL_262d72c81c6c4c34999bae1e894eb1d1",
              "IPY_MODEL_a42dae9c030a4635b6447053ab4a6bb3"
            ],
            "layout": "IPY_MODEL_1248401f06cd453d93d8fe282c022a1b"
          }
        },
        "fd11dbe3335742519b03c2abe609a211": {
          "model_module": "@jupyter-widgets/controls",
          "model_module_version": "1.5.0",
          "model_name": "HTMLModel",
          "state": {
            "_dom_classes": [],
            "_model_module": "@jupyter-widgets/controls",
            "_model_module_version": "1.5.0",
            "_model_name": "HTMLModel",
            "_view_count": null,
            "_view_module": "@jupyter-widgets/controls",
            "_view_module_version": "1.5.0",
            "_view_name": "HTMLView",
            "description": "",
            "description_tooltip": null,
            "layout": "IPY_MODEL_8f8f47f3eabc43ab9d3d85eb5526a5f5",
            "placeholder": "​",
            "style": "IPY_MODEL_d1b50d3f8a6447f9bfbd6b637ede85dd",
            "value": " 333M/3.14G [00:06&lt;00:57, 49.1MB/s]"
          }
        },
        "fe0c9ec94b114bfc855de2f78ace6274": {
          "model_module": "@jupyter-widgets/controls",
          "model_module_version": "1.5.0",
          "model_name": "DescriptionStyleModel",
          "state": {
            "_model_module": "@jupyter-widgets/controls",
            "_model_module_version": "1.5.0",
            "_model_name": "DescriptionStyleModel",
            "_view_count": null,
            "_view_module": "@jupyter-widgets/base",
            "_view_module_version": "1.2.0",
            "_view_name": "StyleView",
            "description_width": ""
          }
        },
        "ff4ae85a848a49809f2c11235bdff062": {
          "model_module": "@jupyter-widgets/controls",
          "model_module_version": "1.5.0",
          "model_name": "HBoxModel",
          "state": {
            "_dom_classes": [],
            "_model_module": "@jupyter-widgets/controls",
            "_model_module_version": "1.5.0",
            "_model_name": "HBoxModel",
            "_view_count": null,
            "_view_module": "@jupyter-widgets/controls",
            "_view_module_version": "1.5.0",
            "_view_name": "HBoxView",
            "box_style": "",
            "children": [
              "IPY_MODEL_47c076adb58541acacd7c3e619f279f0",
              "IPY_MODEL_0364c68a3dc8490d8b2ea78a095bbcf0",
              "IPY_MODEL_619033369fd3470393661715bd6c48f9"
            ],
            "layout": "IPY_MODEL_5078a6d3c49b4e55a29993c466006858"
          }
        }
      }
    }
  },
  "nbformat": 4,
  "nbformat_minor": 0
}
